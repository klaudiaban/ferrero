{
 "cells": [
  {
   "cell_type": "code",
   "execution_count": 1,
   "id": "818f5846",
   "metadata": {},
   "outputs": [],
   "source": [
    "import pandas as pd"
   ]
  },
  {
   "cell_type": "code",
   "execution_count": 2,
   "id": "55edd379",
   "metadata": {},
   "outputs": [],
   "source": [
    "df = pd.read_csv('csv_files/sap_produkcyjne_przyklad.csv', encoding='utf-8-sig', sep=\";\")"
   ]
  },
  {
   "cell_type": "code",
   "execution_count": 3,
   "id": "2c870cdb",
   "metadata": {},
   "outputs": [],
   "source": [
    "with open('csv_files/sap_produkcyjne_przyklad.csv', encoding=\"utf-8\") as f:\n",
    "    first_line = f.readline()\n",
    "\n",
    "import re\n",
    "od_match = re.search(r\"Od\\s+(\\d{2}\\.\\d{2}\\.\\d{4})\", first_line)\n",
    "do_match = re.search(r\"Do\\s+(\\d{2}\\.\\d{2}\\.\\d{4})\", first_line)\n",
    "\n",
    "od_date = pd.to_datetime(od_match.group(1), dayfirst=True).date() if od_match else None\n",
    "do_date = pd.to_datetime(do_match.group(1), dayfirst=True).date() if do_match else None"
   ]
  },
  {
   "cell_type": "code",
   "execution_count": 4,
   "id": "2c79d29e",
   "metadata": {},
   "outputs": [],
   "source": [
    "header_row_1 = df.iloc[2].fillna(\"\").astype(str).str.strip()\n",
    "header_row_2 = df.iloc[3].fillna(\"\").astype(str).str.strip()\n",
    "combined_headers = [\n",
    "    (a + \" \" + b).strip().replace(\".\", \"\").replace(\"/\", \"\").replace(\" \", \"\")\n",
    "    for a, b in zip(header_row_1, header_row_2)\n",
    "]\n",
    "\n",
    "df = df.iloc[5:].copy()\n",
    "df.columns = combined_headers\n",
    "df.dropna(how=\"all\", inplace=True)\n",
    "df.reset_index(drop=True, inplace=True)"
   ]
  },
  {
   "cell_type": "code",
   "execution_count": 5,
   "id": "ed5886cd",
   "metadata": {},
   "outputs": [],
   "source": [
    "df[\"Od\"] = od_date\n",
    "df[\"Do\"] = do_date"
   ]
  },
  {
   "cell_type": "code",
   "execution_count": 6,
   "id": "d0897ed2",
   "metadata": {},
   "outputs": [
    {
     "name": "stdout",
     "output_type": "stream",
     "text": [
      "Index(['Linia', 'Rodzina', 'QLTOTAkt', 'QLTOTPln', 'ProcentDvtProduk',\n",
      "       'ZmianaCzysty', 'ZmianaPrg', 'ZmianaStd', 'QZmStandard', 'QZmStd',\n",
      "       'QZmAkt', 'QZmDocel', 'QZmStd', 'QCPKAkt', 'QCPKDocel', 'QCPKStd',\n",
      "       'OpeLNShAkt', 'OpeLNShDocel', 'OpeLNShStd', 'OpeELShAkt',\n",
      "       'OpeELShDocel', 'OpeELShStd', 'GQLAkt', 'GQLDocel', 'GQLStd',\n",
      "       'ProcentSCEff', 'ProcentSCStd', 'ProcentSCStd', 'ProcentSREff',\n",
      "       'ProcentSRStd', 'ProcentSRStd', 'ProcentSFSPEff', 'ProcentSFSPStd',\n",
      "       'ProcentSFSPStd', 'GodzPracAkt', 'GodzPracDocel', 'GodzPracStd',\n",
      "       'ProcentELINIAEff', 'ProcentELINIAObb', 'ProcentELINIAStd',\n",
      "       'ProcentEPracEff', 'ProcentEPracObb', 'ProcentEPracStd',\n",
      "       'ProcentZyskuEff', 'ProcentZyskuObb', 'ProcentZyskuStd', 'Od', 'Do'],\n",
      "      dtype='object')\n"
     ]
    }
   ],
   "source": [
    "df.columns = [col.replace('%', 'Procent') for col in df.columns]\n",
    "print(df.columns)"
   ]
  },
  {
   "cell_type": "code",
   "execution_count": 7,
   "id": "68894268",
   "metadata": {},
   "outputs": [],
   "source": [
    "float_columns = [\n",
    "    \"QLTOTAkt\", \"QLTOTPln\", \"ProcentDvtProduk\", \"ZmianaCzysty\", \"ZmianaPrg\", \"ZmianaStd\",\n",
    "    \"QZmAkt\", \"QZmDocel\", \"QZmStd\", \"QCPKAkt\", \"QCPKDocel\", \"QCPKStd\",\n",
    "    \"OpeLNShAkt\", \"OpeLNShDocel\", \"OpeLNShStd\", \"OpeELShAkt\", \"OpeELShDocel\", \"OpeELShStd\",\n",
    "    \"GQLAkt\", \"GQLDocel\", \"GQLStd\", \"ProcentSCEff\", \"ProcentSCStd\", \"ProcentSREff\", \"ProcentSRStd\",\n",
    "    \"ProcentSFSPEff\", \"ProcentSFSPStd\", \"GodzPracAkt\", \"GodzPracDocel\", \"GodzPracStd\",\n",
    "    \"ProcentELINIAEff\", \"ProcentELINIAObb\", \"ProcentELINIAStd\",\n",
    "    \"ProcentEPracEff\", \"ProcentEPracObb\", \"ProcentEPracStd\",\n",
    "    \"ProcentZyskuEff\", \"ProcentZyskuObb\", \"ProcentZyskuStd\"\n",
    "]\n",
    "\n",
    "df = df.loc[:, ~df.columns.duplicated()]\n",
    "df.drop(columns=[\"QZmStandard\"], inplace=True)\n",
    "for col in float_columns:\n",
    "    # Access column safely as a Series\n",
    "    df.loc[:, col] = df[col].apply(lambda x: str(x).replace(' ', '').replace(',', '.'))\n",
    "    df.loc[:, col] = pd.to_numeric(df[col], errors='coerce')"
   ]
  },
  {
   "cell_type": "code",
   "execution_count": 8,
   "id": "070babaa",
   "metadata": {},
   "outputs": [
    {
     "name": "stdout",
     "output_type": "stream",
     "text": [
      "<class 'pandas.core.frame.DataFrame'>\n",
      "RangeIndex: 1 entries, 0 to 0\n",
      "Data columns (total 43 columns):\n",
      " #   Column            Non-Null Count  Dtype         \n",
      "---  ------            --------------  -----         \n",
      " 0   Linia             1 non-null      int32         \n",
      " 1   Rodzina           1 non-null      string        \n",
      " 2   QLTOTAkt          1 non-null      float64       \n",
      " 3   QLTOTPln          1 non-null      float64       \n",
      " 4   ProcentDvtProduk  1 non-null      float64       \n",
      " 5   ZmianaCzysty      1 non-null      float64       \n",
      " 6   ZmianaPrg         1 non-null      float64       \n",
      " 7   ZmianaStd         1 non-null      float64       \n",
      " 8   QZmStd            1 non-null      float64       \n",
      " 9   QZmAkt            1 non-null      float64       \n",
      " 10  QZmDocel          1 non-null      float64       \n",
      " 11  QCPKAkt           1 non-null      float64       \n",
      " 12  QCPKDocel         1 non-null      float64       \n",
      " 13  QCPKStd           1 non-null      float64       \n",
      " 14  OpeLNShAkt        1 non-null      float64       \n",
      " 15  OpeLNShDocel      1 non-null      float64       \n",
      " 16  OpeLNShStd        1 non-null      float64       \n",
      " 17  OpeELShAkt        1 non-null      float64       \n",
      " 18  OpeELShDocel      1 non-null      float64       \n",
      " 19  OpeELShStd        1 non-null      float64       \n",
      " 20  GQLAkt            1 non-null      float64       \n",
      " 21  GQLDocel          1 non-null      float64       \n",
      " 22  GQLStd            1 non-null      float64       \n",
      " 23  ProcentSCEff      1 non-null      float64       \n",
      " 24  ProcentSCStd      1 non-null      float64       \n",
      " 25  ProcentSREff      1 non-null      float64       \n",
      " 26  ProcentSRStd      1 non-null      float64       \n",
      " 27  ProcentSFSPEff    1 non-null      float64       \n",
      " 28  ProcentSFSPStd    1 non-null      float64       \n",
      " 29  GodzPracAkt       1 non-null      float64       \n",
      " 30  GodzPracDocel     1 non-null      float64       \n",
      " 31  GodzPracStd       1 non-null      float64       \n",
      " 32  ProcentELINIAEff  1 non-null      float64       \n",
      " 33  ProcentELINIAObb  1 non-null      float64       \n",
      " 34  ProcentELINIAStd  1 non-null      float64       \n",
      " 35  ProcentEPracEff   1 non-null      float64       \n",
      " 36  ProcentEPracObb   1 non-null      float64       \n",
      " 37  ProcentEPracStd   1 non-null      float64       \n",
      " 38  ProcentZyskuEff   1 non-null      float64       \n",
      " 39  ProcentZyskuObb   1 non-null      float64       \n",
      " 40  ProcentZyskuStd   1 non-null      float64       \n",
      " 41  Od                1 non-null      datetime64[ns]\n",
      " 42  Do                1 non-null      datetime64[ns]\n",
      "dtypes: datetime64[ns](2), float64(39), int32(1), string(1)\n",
      "memory usage: 472.0 bytes\n"
     ]
    }
   ],
   "source": [
    "df = df.astype({\n",
    "    \"Od\": \"datetime64[ns]\",\n",
    "    \"Do\": \"datetime64[ns]\",\n",
    "    \"Linia\": \"int\",\n",
    "    \"Rodzina\": \"string\",\n",
    "    \"QLTOTAkt\": \"float\",\n",
    "    \"QLTOTPln\": \"float\",\n",
    "    \"ProcentDvtProduk\": \"float\",\n",
    "    \"ZmianaCzysty\": \"float\",\n",
    "    \"ZmianaPrg\": \"float\",\n",
    "    \"ZmianaStd\": \"float\",\n",
    "    \"QZmAkt\": \"float\",\n",
    "    \"QZmDocel\": \"float\",\n",
    "    \"QZmStd\": \"float\",\n",
    "    \"QCPKAkt\": \"float\",\n",
    "    \"QCPKDocel\": \"float\",\n",
    "    \"QCPKStd\": \"float\",\n",
    "    \"OpeLNShAkt\": \"float\",\n",
    "    \"OpeLNShDocel\": \"float\",\n",
    "    \"OpeLNShStd\": \"float\",\n",
    "    \"OpeELShAkt\": \"float\",\n",
    "    \"OpeELShDocel\": \"float\",\n",
    "    \"OpeELShStd\": \"float\",\n",
    "    \"GQLAkt\": \"float\",\n",
    "    \"GQLDocel\": \"float\",\n",
    "    \"GQLStd\": \"float\",\n",
    "    \"ProcentSCEff\": \"float\",\n",
    "    \"ProcentSCStd\": \"float\",\n",
    "    \"ProcentSREff\": \"float\",\n",
    "    \"ProcentSRStd\": \"float\",\n",
    "    \"ProcentSFSPEff\": \"float\",\n",
    "    \"ProcentSFSPStd\": \"float\",\n",
    "    \"GodzPracAkt\": \"float\",\n",
    "    \"GodzPracDocel\": \"float\",\n",
    "    \"GodzPracStd\": \"float\",\n",
    "    \"ProcentELINIAEff\": \"float\",\n",
    "    \"ProcentELINIAObb\": \"float\",\n",
    "    \"ProcentELINIAStd\": \"float\",\n",
    "    \"ProcentEPracEff\": \"float\",\n",
    "    \"ProcentEPracObb\": \"float\",\n",
    "    \"ProcentEPracStd\": \"float\",\n",
    "    \"ProcentZyskuEff\": \"float\",\n",
    "    \"ProcentZyskuObb\": \"float\",\n",
    "    \"ProcentZyskuStd\": \"float\"\n",
    "})\n",
    "df.info()"
   ]
  },
  {
   "cell_type": "code",
   "execution_count": 9,
   "id": "f3b69b09",
   "metadata": {},
   "outputs": [
    {
     "data": {
      "text/plain": [
       "1"
      ]
     },
     "execution_count": 9,
     "metadata": {},
     "output_type": "execute_result"
    }
   ],
   "source": [
    "from sqlalchemy import create_engine\n",
    "\n",
    "# Connection details\n",
    "server = 'JASNACZERN'        \n",
    "database = 'ferrero'\n",
    "username = 'sa'\n",
    "password = '1234'\n",
    "driver = 'ODBC Driver 17 for SQL Server'  \n",
    "\n",
    "# SQLAlchemy connection string\n",
    "conn_str = (\n",
    "    f\"mssql+pyodbc://{username}:{password}@{server}/{database}\"\n",
    "    f\"?driver={driver.replace(' ', '+')}\"\n",
    ")\n",
    "\n",
    "# Create SQLAlchemy engine\n",
    "engine = create_engine(conn_str)\n",
    "\n",
    "# Write the DataFrame to SQL Server (replace table_name with your desired name)\n",
    "df.to_sql('BilansProdukcji', con=engine, if_exists='append', index=False)"
   ]
  }
 ],
 "metadata": {
  "kernelspec": {
   "display_name": "base",
   "language": "python",
   "name": "python3"
  },
  "language_info": {
   "codemirror_mode": {
    "name": "ipython",
    "version": 3
   },
   "file_extension": ".py",
   "mimetype": "text/x-python",
   "name": "python",
   "nbconvert_exporter": "python",
   "pygments_lexer": "ipython3",
   "version": "3.11.5"
  }
 },
 "nbformat": 4,
 "nbformat_minor": 5
}
