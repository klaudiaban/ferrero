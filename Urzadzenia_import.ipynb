{
 "cells": [
  {
   "cell_type": "code",
   "execution_count": 1,
   "id": "021f938c",
   "metadata": {},
   "outputs": [
    {
     "name": "stdout",
     "output_type": "stream",
     "text": [
      "Data inserted into Urzadzenia table.\n"
     ]
    }
   ],
   "source": [
    "import pandas as pd\n",
    "from sqlalchemy import create_engine\n",
    "\n",
    "urzadzenia = pd.read_csv(\"csv_files/urzadzenia.csv\", encoding=\"utf-8-sig\", sep=\";\")\n",
    "\n",
    "urzadzenia = urzadzenia[[\"Urządzenie\", \"Oznaczenie\"]]\n",
    "urzadzenia.columns = [\"UrzadzenieId\", \"UrzadzenieNazwa\"]\n",
    "\n",
    "urzadzenia[\"UrzadzenieId\"] = pd.to_numeric(urzadzenia[\"UrzadzenieId\"], errors=\"coerce\")\n",
    "urzadzenia[\"UrzadzenieNazwa\"] = urzadzenia[\"UrzadzenieNazwa\"].astype(str)\n",
    "\n",
    "urzadzenia = urzadzenia.dropna(subset=[\"UrzadzenieId\"])\n",
    "\n",
    "server = 'JASNACZERN'        \n",
    "database = 'ferrero'\n",
    "username = 'sa'\n",
    "password = '1234'\n",
    "driver = 'ODBC Driver 17 for SQL Server'\n",
    "\n",
    "conn_str = (\n",
    "    f\"mssql+pyodbc://{username}:{password}@{server}/{database}\"\n",
    "    f\"?driver={driver.replace(' ', '+')}\"\n",
    ")\n",
    "engine = create_engine(conn_str)\n",
    "\n",
    "try:\n",
    "    urzadzenia.to_sql(\"Urzadzenia\", con=engine, if_exists=\"append\", index=False)\n",
    "    print(\"Data inserted into Urzadzenia table.\")\n",
    "except Exception as e:\n",
    "    print(\"Insert failed:\", e)"
   ]
  }
 ],
 "metadata": {
  "kernelspec": {
   "display_name": "base",
   "language": "python",
   "name": "python3"
  },
  "language_info": {
   "codemirror_mode": {
    "name": "ipython",
    "version": 3
   },
   "file_extension": ".py",
   "mimetype": "text/x-python",
   "name": "python",
   "nbconvert_exporter": "python",
   "pygments_lexer": "ipython3",
   "version": "3.11.5"
  }
 },
 "nbformat": 4,
 "nbformat_minor": 5
}
