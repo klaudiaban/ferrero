{
 "cells": [
  {
   "cell_type": "code",
   "execution_count": null,
   "id": "924a6f5a",
   "metadata": {},
   "outputs": [
    {
     "name": "stdout",
     "output_type": "stream",
     "text": [
      "Data inserted into lokalizacjafunkcjonalna table.\n"
     ]
    }
   ],
   "source": [
    "import pandas as pd\n",
    "from sqlalchemy import create_engine, text\n",
    "\n",
    "lokalizacjafunkcjonalna = pd.read_csv(\"csv_files/lokalizacja_funkcjonalna.csv\", encoding=\"utf-8-sig\", sep=\";\")\n",
    "\n",
    "lokalizacjafunkcjonalna = lokalizacjafunkcjonalna[[\"Lokaliz. funkc.\", \"Oznaczenie\"]]\n",
    "\n",
    "lokalizacjafunkcjonalna.columns = [\"LokalizacjaFunkcjonalnaId\", \"LokalizacjaFunkcjonalnaNazwa\"]\n",
    "\n",
    "lokalizacjafunkcjonalna[\"LiniaId\"] = lokalizacjafunkcjonalna[\"LokalizacjaFunkcjonalnaId\"].str.extract(r'^[^-]+-[^-]+-[^-]+-([0-9]+)(?:-|$)')\n",
    "lokalizacjafunkcjonalna[\"LiniaId\"] = pd.to_numeric(lokalizacjafunkcjonalna[\"LiniaId\"], errors='coerce')\n",
    "\n",
    "lokalizacjafunkcjonalna = lokalizacjafunkcjonalna.dropna(subset=[\"LokalizacjaFunkcjonalnaId\"])\n",
    "\n",
    "lokalizacjafunkcjonalna = lokalizacjafunkcjonalna.drop_duplicates(subset=[\"LokalizacjaFunkcjonalnaId\"])\n",
    "\n",
    "lokalizacjafunkcjonalna[\"LiniaId\"] = lokalizacjafunkcjonalna[\"LokalizacjaFunkcjonalnaId\"].str.extract(r'^(?:[^-]+-){3}([0-9]+)')\n",
    "lokalizacjafunkcjonalna[\"LiniaId\"] = pd.to_numeric(lokalizacjafunkcjonalna[\"LiniaId\"], errors='coerce')\n",
    "\n",
    "lokalizacjafunkcjonalna[\"UGP\"] = lokalizacjafunkcjonalna[\"LokalizacjaFunkcjonalnaId\"].str.extract(r'(?:PLPA-)?([A-Z]{2}-[A-Z0-9]{3})')\n",
    "lokalizacjafunkcjonalna[\"UGP\"] = lokalizacjafunkcjonalna[\"UGP\"].astype(str)\n",
    "\n",
    "server = 'JASNACZERN'        \n",
    "database = 'ferrero'\n",
    "username = 'sa'\n",
    "password = '1234'\n",
    "driver = 'ODBC Driver 17 for SQL Server'\n",
    "\n",
    "conn_str = (\n",
    "    f\"mssql+pyodbc://{username}:{password}@{server}/{database}\"\n",
    "    f\"?driver={driver.replace(' ', '+')}\"\n",
    ")\n",
    "engine = create_engine(conn_str)\n",
    "\n",
    "existing_ids = pd.read_sql(\"SELECT LokalizacjaFunkcjonalnaId FROM LokalizacjaFunkcjonalna\", engine)\n",
    "lokalizacjafunkcjonalna = lokalizacjafunkcjonalna[~lokalizacjafunkcjonalna[\"LokalizacjaFunkcjonalnaId\"].isin(existing_ids[\"LokalizacjaFunkcjonalnaId\"])]\n",
    "\n",
    "try:\n",
    "    lokalizacjafunkcjonalna.to_sql(\"lokalizacjafunkcjonalna\", con=engine, if_exists=\"append\", index=False)\n",
    "    print(\"Data inserted into lokalizacjafunkcjonalna table.\")\n",
    "except Exception as e:\n",
    "    print(\"Insert failed:\", e)"
   ]
  }
 ],
 "metadata": {
  "kernelspec": {
   "display_name": "base",
   "language": "python",
   "name": "python3"
  },
  "language_info": {
   "codemirror_mode": {
    "name": "ipython",
    "version": 3
   },
   "file_extension": ".py",
   "mimetype": "text/x-python",
   "name": "python",
   "nbconvert_exporter": "python",
   "pygments_lexer": "ipython3",
   "version": "3.11.5"
  }
 },
 "nbformat": 4,
 "nbformat_minor": 5
}
