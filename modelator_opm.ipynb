{
 "cells": [
  {
   "cell_type": "code",
   "execution_count": 99,
   "id": "4cc56701",
   "metadata": {},
   "outputs": [],
   "source": [
    "import pandas as pd"
   ]
  },
  {
   "cell_type": "code",
   "execution_count": 100,
   "id": "dc4619c2",
   "metadata": {},
   "outputs": [
    {
     "data": {
      "text/html": [
       "<div>\n",
       "<style scoped>\n",
       "    .dataframe tbody tr th:only-of-type {\n",
       "        vertical-align: middle;\n",
       "    }\n",
       "\n",
       "    .dataframe tbody tr th {\n",
       "        vertical-align: top;\n",
       "    }\n",
       "\n",
       "    .dataframe thead th {\n",
       "        text-align: right;\n",
       "    }\n",
       "</style>\n",
       "<table border=\"1\" class=\"dataframe\">\n",
       "  <thead>\n",
       "    <tr style=\"text-align: right;\">\n",
       "      <th></th>\n",
       "      <th>Rodzaj zawiad.</th>\n",
       "      <th>Zawiadomienie</th>\n",
       "      <th>Nr zlec.</th>\n",
       "      <th>Opis</th>\n",
       "      <th>Data zawiadom.</th>\n",
       "      <th>Oznaczenie</th>\n",
       "      <th>Utworzone przez</th>\n",
       "      <th>Priorytet</th>\n",
       "      <th>Status systemu</th>\n",
       "    </tr>\n",
       "  </thead>\n",
       "  <tbody>\n",
       "    <tr>\n",
       "      <th>0</th>\n",
       "      <td>PT</td>\n",
       "      <td>12707124</td>\n",
       "      <td>5.000023e+10</td>\n",
       "      <td>Przegląd Modelatora OPM</td>\n",
       "      <td>30.06.2025</td>\n",
       "      <td>1-Modelator OPM</td>\n",
       "      <td>GROTEARKA1</td>\n",
       "      <td>NaN</td>\n",
       "      <td>PRZL WTZW</td>\n",
       "    </tr>\n",
       "    <tr>\n",
       "      <th>1</th>\n",
       "      <td>1P</td>\n",
       "      <td>12701513</td>\n",
       "      <td>5.000023e+10</td>\n",
       "      <td>Blokada form na obracacie w strefie</td>\n",
       "      <td>26.06.2025</td>\n",
       "      <td>1-Modelator OPM</td>\n",
       "      <td>MATYNGRZE1</td>\n",
       "      <td>2-wysoki</td>\n",
       "      <td>MOBI PRZL ZWZK</td>\n",
       "    </tr>\n",
       "    <tr>\n",
       "      <th>2</th>\n",
       "      <td>PQ</td>\n",
       "      <td>12680271</td>\n",
       "      <td>5.000023e+10</td>\n",
       "      <td>Wymiana odpowietrznika</td>\n",
       "      <td>09.06.2025</td>\n",
       "      <td>1-Modelator OPM</td>\n",
       "      <td>GAWROPIOT1</td>\n",
       "      <td>4-niski</td>\n",
       "      <td>MOBI PRZL WTZW ZRZa</td>\n",
       "    </tr>\n",
       "    <tr>\n",
       "      <th>3</th>\n",
       "      <td>1P</td>\n",
       "      <td>12680129</td>\n",
       "      <td>5.000023e+10</td>\n",
       "      <td>Głośna praca Allgaiera czekolady</td>\n",
       "      <td>08.06.2025</td>\n",
       "      <td>1-Modelator OPM</td>\n",
       "      <td>GAWROPIOT1</td>\n",
       "      <td>2-wysoki</td>\n",
       "      <td>MOBI PRZL ZWZK</td>\n",
       "    </tr>\n",
       "    <tr>\n",
       "      <th>4</th>\n",
       "      <td>1P</td>\n",
       "      <td>12680117</td>\n",
       "      <td>5.000023e+10</td>\n",
       "      <td>Brak temperatury produktu</td>\n",
       "      <td>09.06.2025</td>\n",
       "      <td>1-Modelator OPM</td>\n",
       "      <td>GAWROPIOT1</td>\n",
       "      <td>3-średni</td>\n",
       "      <td>MOBI PRZL ZWZK</td>\n",
       "    </tr>\n",
       "    <tr>\n",
       "      <th>...</th>\n",
       "      <td>...</td>\n",
       "      <td>...</td>\n",
       "      <td>...</td>\n",
       "      <td>...</td>\n",
       "      <td>...</td>\n",
       "      <td>...</td>\n",
       "      <td>...</td>\n",
       "      <td>...</td>\n",
       "      <td>...</td>\n",
       "    </tr>\n",
       "    <tr>\n",
       "      <th>372</th>\n",
       "      <td>PM</td>\n",
       "      <td>10208260</td>\n",
       "      <td>5.000002e+10</td>\n",
       "      <td>BLOKOWANIE NOWEGO FONDELLO NATRANSPORTER</td>\n",
       "      <td>18.11.2014</td>\n",
       "      <td>1-Modelator OPM</td>\n",
       "      <td>GADEKJACE1</td>\n",
       "      <td>NaN</td>\n",
       "      <td>PRZL ZWZK</td>\n",
       "    </tr>\n",
       "    <tr>\n",
       "      <th>373</th>\n",
       "      <td>PM</td>\n",
       "      <td>10200120</td>\n",
       "      <td>5.000001e+10</td>\n",
       "      <td>REULOWANIE TRANSPORTERA FONNDELLO</td>\n",
       "      <td>22.10.2014</td>\n",
       "      <td>1-Modelator OPM</td>\n",
       "      <td>GADEKJACE1</td>\n",
       "      <td>NaN</td>\n",
       "      <td>PRZL ZWZK</td>\n",
       "    </tr>\n",
       "    <tr>\n",
       "      <th>374</th>\n",
       "      <td>PM</td>\n",
       "      <td>10199517</td>\n",
       "      <td>5.000001e+10</td>\n",
       "      <td>PRZYTARTY LEWY ZAWÓR NALEWARKI KR.</td>\n",
       "      <td>21.10.2014</td>\n",
       "      <td>1-Modelator OPM</td>\n",
       "      <td>GADEKJACE1</td>\n",
       "      <td>NaN</td>\n",
       "      <td>PRZL ZWZK</td>\n",
       "    </tr>\n",
       "    <tr>\n",
       "      <th>375</th>\n",
       "      <td>PM</td>\n",
       "      <td>10196696</td>\n",
       "      <td>5.000001e+10</td>\n",
       "      <td>ZABLOKOWANY NALEWARKA</td>\n",
       "      <td>10.10.2014</td>\n",
       "      <td>1-Modelator OPM</td>\n",
       "      <td>GADEKJACE1</td>\n",
       "      <td>NaN</td>\n",
       "      <td>PRZL ZWZK</td>\n",
       "    </tr>\n",
       "    <tr>\n",
       "      <th>376</th>\n",
       "      <td>PM</td>\n",
       "      <td>10184375</td>\n",
       "      <td>5.000001e+10</td>\n",
       "      <td>BRAK POTWIERDZENIA Z CZUJNIKA ZAGINANIA</td>\n",
       "      <td>03.09.2014</td>\n",
       "      <td>1-Modelator OPM</td>\n",
       "      <td>KARPIDARI1</td>\n",
       "      <td>NaN</td>\n",
       "      <td>PRZL ZWZK</td>\n",
       "    </tr>\n",
       "  </tbody>\n",
       "</table>\n",
       "<p>377 rows × 9 columns</p>\n",
       "</div>"
      ],
      "text/plain": [
       "    Rodzaj zawiad.  Zawiadomienie      Nr zlec.  \\\n",
       "0               PT       12707124  5.000023e+10   \n",
       "1               1P       12701513  5.000023e+10   \n",
       "2               PQ       12680271  5.000023e+10   \n",
       "3               1P       12680129  5.000023e+10   \n",
       "4               1P       12680117  5.000023e+10   \n",
       "..             ...            ...           ...   \n",
       "372             PM       10208260  5.000002e+10   \n",
       "373             PM       10200120  5.000001e+10   \n",
       "374             PM       10199517  5.000001e+10   \n",
       "375             PM       10196696  5.000001e+10   \n",
       "376             PM       10184375  5.000001e+10   \n",
       "\n",
       "                                         Opis Data zawiadom.       Oznaczenie  \\\n",
       "0                     Przegląd Modelatora OPM     30.06.2025  1-Modelator OPM   \n",
       "1         Blokada form na obracacie w strefie     26.06.2025  1-Modelator OPM   \n",
       "2                      Wymiana odpowietrznika     09.06.2025  1-Modelator OPM   \n",
       "3            Głośna praca Allgaiera czekolady     08.06.2025  1-Modelator OPM   \n",
       "4                   Brak temperatury produktu     09.06.2025  1-Modelator OPM   \n",
       "..                                        ...            ...              ...   \n",
       "372  BLOKOWANIE NOWEGO FONDELLO NATRANSPORTER     18.11.2014  1-Modelator OPM   \n",
       "373         REULOWANIE TRANSPORTERA FONNDELLO     22.10.2014  1-Modelator OPM   \n",
       "374        PRZYTARTY LEWY ZAWÓR NALEWARKI KR.     21.10.2014  1-Modelator OPM   \n",
       "375                     ZABLOKOWANY NALEWARKA     10.10.2014  1-Modelator OPM   \n",
       "376   BRAK POTWIERDZENIA Z CZUJNIKA ZAGINANIA     03.09.2014  1-Modelator OPM   \n",
       "\n",
       "    Utworzone przez Priorytet       Status systemu  \n",
       "0        GROTEARKA1       NaN            PRZL WTZW  \n",
       "1        MATYNGRZE1  2-wysoki       MOBI PRZL ZWZK  \n",
       "2        GAWROPIOT1   4-niski  MOBI PRZL WTZW ZRZa  \n",
       "3        GAWROPIOT1  2-wysoki       MOBI PRZL ZWZK  \n",
       "4        GAWROPIOT1  3-średni       MOBI PRZL ZWZK  \n",
       "..              ...       ...                  ...  \n",
       "372      GADEKJACE1       NaN            PRZL ZWZK  \n",
       "373      GADEKJACE1       NaN            PRZL ZWZK  \n",
       "374      GADEKJACE1       NaN            PRZL ZWZK  \n",
       "375      GADEKJACE1       NaN            PRZL ZWZK  \n",
       "376      KARPIDARI1       NaN            PRZL ZWZK  \n",
       "\n",
       "[377 rows x 9 columns]"
      ]
     },
     "execution_count": 100,
     "metadata": {},
     "output_type": "execute_result"
    }
   ],
   "source": [
    "df = pd.read_csv('modelator_opm.csv', encoding='utf-8-sig', sep=\";\")\n",
    "df"
   ]
  },
  {
   "cell_type": "code",
   "execution_count": 101,
   "id": "3750ffa2",
   "metadata": {},
   "outputs": [
    {
     "name": "stderr",
     "output_type": "stream",
     "text": [
      "/tmp/ipykernel_17578/2706304080.py:5: UserWarning:\n",
      "\n",
      "Parsing dates in %d.%m.%Y format when dayfirst=False (the default) was specified. Pass `dayfirst=True` or specify a format to silence this warning.\n",
      "\n"
     ]
    },
    {
     "data": {
      "text/html": [
       "<div>\n",
       "<style scoped>\n",
       "    .dataframe tbody tr th:only-of-type {\n",
       "        vertical-align: middle;\n",
       "    }\n",
       "\n",
       "    .dataframe tbody tr th {\n",
       "        vertical-align: top;\n",
       "    }\n",
       "\n",
       "    .dataframe thead th {\n",
       "        text-align: right;\n",
       "    }\n",
       "</style>\n",
       "<table border=\"1\" class=\"dataframe\">\n",
       "  <thead>\n",
       "    <tr style=\"text-align: right;\">\n",
       "      <th></th>\n",
       "      <th>Rodzaj zawiad.</th>\n",
       "      <th>Zawiadomienie</th>\n",
       "      <th>Data zawiadom.</th>\n",
       "      <th>Oznaczenie</th>\n",
       "      <th>Priorytet</th>\n",
       "    </tr>\n",
       "  </thead>\n",
       "  <tbody>\n",
       "    <tr>\n",
       "      <th>0</th>\n",
       "      <td>PT</td>\n",
       "      <td>12707124</td>\n",
       "      <td>2025-06-30</td>\n",
       "      <td>1-Modelator OPM</td>\n",
       "      <td>Nieokreślony</td>\n",
       "    </tr>\n",
       "    <tr>\n",
       "      <th>1</th>\n",
       "      <td>1P</td>\n",
       "      <td>12701513</td>\n",
       "      <td>2025-06-26</td>\n",
       "      <td>1-Modelator OPM</td>\n",
       "      <td>2-wysoki</td>\n",
       "    </tr>\n",
       "    <tr>\n",
       "      <th>2</th>\n",
       "      <td>PQ</td>\n",
       "      <td>12680271</td>\n",
       "      <td>2025-06-09</td>\n",
       "      <td>1-Modelator OPM</td>\n",
       "      <td>4-niski</td>\n",
       "    </tr>\n",
       "    <tr>\n",
       "      <th>3</th>\n",
       "      <td>1P</td>\n",
       "      <td>12680129</td>\n",
       "      <td>2025-06-08</td>\n",
       "      <td>1-Modelator OPM</td>\n",
       "      <td>2-wysoki</td>\n",
       "    </tr>\n",
       "    <tr>\n",
       "      <th>4</th>\n",
       "      <td>1P</td>\n",
       "      <td>12680117</td>\n",
       "      <td>2025-06-09</td>\n",
       "      <td>1-Modelator OPM</td>\n",
       "      <td>3-średni</td>\n",
       "    </tr>\n",
       "    <tr>\n",
       "      <th>...</th>\n",
       "      <td>...</td>\n",
       "      <td>...</td>\n",
       "      <td>...</td>\n",
       "      <td>...</td>\n",
       "      <td>...</td>\n",
       "    </tr>\n",
       "    <tr>\n",
       "      <th>372</th>\n",
       "      <td>PM</td>\n",
       "      <td>10208260</td>\n",
       "      <td>2014-11-18</td>\n",
       "      <td>1-Modelator OPM</td>\n",
       "      <td>Nieokreślony</td>\n",
       "    </tr>\n",
       "    <tr>\n",
       "      <th>373</th>\n",
       "      <td>PM</td>\n",
       "      <td>10200120</td>\n",
       "      <td>2014-10-22</td>\n",
       "      <td>1-Modelator OPM</td>\n",
       "      <td>Nieokreślony</td>\n",
       "    </tr>\n",
       "    <tr>\n",
       "      <th>374</th>\n",
       "      <td>PM</td>\n",
       "      <td>10199517</td>\n",
       "      <td>2014-10-21</td>\n",
       "      <td>1-Modelator OPM</td>\n",
       "      <td>Nieokreślony</td>\n",
       "    </tr>\n",
       "    <tr>\n",
       "      <th>375</th>\n",
       "      <td>PM</td>\n",
       "      <td>10196696</td>\n",
       "      <td>2014-10-10</td>\n",
       "      <td>1-Modelator OPM</td>\n",
       "      <td>Nieokreślony</td>\n",
       "    </tr>\n",
       "    <tr>\n",
       "      <th>376</th>\n",
       "      <td>PM</td>\n",
       "      <td>10184375</td>\n",
       "      <td>2014-09-03</td>\n",
       "      <td>1-Modelator OPM</td>\n",
       "      <td>Nieokreślony</td>\n",
       "    </tr>\n",
       "  </tbody>\n",
       "</table>\n",
       "<p>377 rows × 5 columns</p>\n",
       "</div>"
      ],
      "text/plain": [
       "    Rodzaj zawiad.  Zawiadomienie Data zawiadom.       Oznaczenie  \\\n",
       "0               PT       12707124     2025-06-30  1-Modelator OPM   \n",
       "1               1P       12701513     2025-06-26  1-Modelator OPM   \n",
       "2               PQ       12680271     2025-06-09  1-Modelator OPM   \n",
       "3               1P       12680129     2025-06-08  1-Modelator OPM   \n",
       "4               1P       12680117     2025-06-09  1-Modelator OPM   \n",
       "..             ...            ...            ...              ...   \n",
       "372             PM       10208260     2014-11-18  1-Modelator OPM   \n",
       "373             PM       10200120     2014-10-22  1-Modelator OPM   \n",
       "374             PM       10199517     2014-10-21  1-Modelator OPM   \n",
       "375             PM       10196696     2014-10-10  1-Modelator OPM   \n",
       "376             PM       10184375     2014-09-03  1-Modelator OPM   \n",
       "\n",
       "        Priorytet  \n",
       "0    Nieokreślony  \n",
       "1        2-wysoki  \n",
       "2         4-niski  \n",
       "3        2-wysoki  \n",
       "4        3-średni  \n",
       "..            ...  \n",
       "372  Nieokreślony  \n",
       "373  Nieokreślony  \n",
       "374  Nieokreślony  \n",
       "375  Nieokreślony  \n",
       "376  Nieokreślony  \n",
       "\n",
       "[377 rows x 5 columns]"
      ]
     },
     "execution_count": 101,
     "metadata": {},
     "output_type": "execute_result"
    }
   ],
   "source": [
    "# Delete white blanks in columns names\n",
    "df.columns = df.columns.str.strip()\n",
    "\n",
    "# Change type of Data zawiadom. from object to date\n",
    "df[\"Data zawiadom.\"] = pd.to_datetime(df[\"Data zawiadom.\"], errors=\"coerce\")\n",
    "\n",
    "# Delete not needed columns: Utworzone przez, Opis, Status systemu and Nr zlec.\n",
    "df = df.drop(columns=['Utworzone przez', 'Opis', 'Status systemu', \"Nr zlec.\"])\n",
    "\n",
    "# Handle missing values in Priorytet\n",
    "df['Priorytet'] = df['Priorytet'].fillna('Nieokreślony')\n",
    "\n",
    "df"
   ]
  },
  {
   "cell_type": "code",
   "execution_count": 102,
   "id": "5f65b75f",
   "metadata": {},
   "outputs": [
    {
     "data": {
      "text/plain": [
       "{'Rodzaj zawiad.': 5}"
      ]
     },
     "execution_count": 102,
     "metadata": {},
     "output_type": "execute_result"
    }
   ],
   "source": [
    "unique_counts = {\n",
    "    'Rodzaj zawiad.': df['Rodzaj zawiad.'].nunique()\n",
    "}\n",
    "\n",
    "unique_counts"
   ]
  },
  {
   "cell_type": "code",
   "execution_count": 103,
   "id": "7e5a2a27",
   "metadata": {},
   "outputs": [
    {
     "data": {
      "text/html": [
       "<div>\n",
       "<style scoped>\n",
       "    .dataframe tbody tr th:only-of-type {\n",
       "        vertical-align: middle;\n",
       "    }\n",
       "\n",
       "    .dataframe tbody tr th {\n",
       "        vertical-align: top;\n",
       "    }\n",
       "\n",
       "    .dataframe thead th {\n",
       "        text-align: right;\n",
       "    }\n",
       "</style>\n",
       "<table border=\"1\" class=\"dataframe\">\n",
       "  <thead>\n",
       "    <tr style=\"text-align: right;\">\n",
       "      <th></th>\n",
       "      <th>Rodzaj zawiad.</th>\n",
       "      <th>Zawiadomienie</th>\n",
       "      <th>Data zawiadom.</th>\n",
       "      <th>Oznaczenie</th>\n",
       "      <th>Priorytet</th>\n",
       "      <th>Typ zawiadomienia</th>\n",
       "    </tr>\n",
       "  </thead>\n",
       "  <tbody>\n",
       "    <tr>\n",
       "      <th>0</th>\n",
       "      <td>PT</td>\n",
       "      <td>12707124</td>\n",
       "      <td>2025-06-30</td>\n",
       "      <td>1-Modelator OPM</td>\n",
       "      <td>Nieokreślony</td>\n",
       "      <td>preventive</td>\n",
       "    </tr>\n",
       "    <tr>\n",
       "      <th>1</th>\n",
       "      <td>1P</td>\n",
       "      <td>12701513</td>\n",
       "      <td>2025-06-26</td>\n",
       "      <td>1-Modelator OPM</td>\n",
       "      <td>2-wysoki</td>\n",
       "      <td>awaria</td>\n",
       "    </tr>\n",
       "    <tr>\n",
       "      <th>2</th>\n",
       "      <td>PQ</td>\n",
       "      <td>12680271</td>\n",
       "      <td>2025-06-09</td>\n",
       "      <td>1-Modelator OPM</td>\n",
       "      <td>4-niski</td>\n",
       "      <td>usprawnienie</td>\n",
       "    </tr>\n",
       "    <tr>\n",
       "      <th>3</th>\n",
       "      <td>1P</td>\n",
       "      <td>12680129</td>\n",
       "      <td>2025-06-08</td>\n",
       "      <td>1-Modelator OPM</td>\n",
       "      <td>2-wysoki</td>\n",
       "      <td>awaria</td>\n",
       "    </tr>\n",
       "    <tr>\n",
       "      <th>4</th>\n",
       "      <td>1P</td>\n",
       "      <td>12680117</td>\n",
       "      <td>2025-06-09</td>\n",
       "      <td>1-Modelator OPM</td>\n",
       "      <td>3-średni</td>\n",
       "      <td>awaria</td>\n",
       "    </tr>\n",
       "    <tr>\n",
       "      <th>...</th>\n",
       "      <td>...</td>\n",
       "      <td>...</td>\n",
       "      <td>...</td>\n",
       "      <td>...</td>\n",
       "      <td>...</td>\n",
       "      <td>...</td>\n",
       "    </tr>\n",
       "    <tr>\n",
       "      <th>372</th>\n",
       "      <td>PM</td>\n",
       "      <td>10208260</td>\n",
       "      <td>2014-11-18</td>\n",
       "      <td>1-Modelator OPM</td>\n",
       "      <td>Nieokreślony</td>\n",
       "      <td>awaria</td>\n",
       "    </tr>\n",
       "    <tr>\n",
       "      <th>373</th>\n",
       "      <td>PM</td>\n",
       "      <td>10200120</td>\n",
       "      <td>2014-10-22</td>\n",
       "      <td>1-Modelator OPM</td>\n",
       "      <td>Nieokreślony</td>\n",
       "      <td>awaria</td>\n",
       "    </tr>\n",
       "    <tr>\n",
       "      <th>374</th>\n",
       "      <td>PM</td>\n",
       "      <td>10199517</td>\n",
       "      <td>2014-10-21</td>\n",
       "      <td>1-Modelator OPM</td>\n",
       "      <td>Nieokreślony</td>\n",
       "      <td>awaria</td>\n",
       "    </tr>\n",
       "    <tr>\n",
       "      <th>375</th>\n",
       "      <td>PM</td>\n",
       "      <td>10196696</td>\n",
       "      <td>2014-10-10</td>\n",
       "      <td>1-Modelator OPM</td>\n",
       "      <td>Nieokreślony</td>\n",
       "      <td>awaria</td>\n",
       "    </tr>\n",
       "    <tr>\n",
       "      <th>376</th>\n",
       "      <td>PM</td>\n",
       "      <td>10184375</td>\n",
       "      <td>2014-09-03</td>\n",
       "      <td>1-Modelator OPM</td>\n",
       "      <td>Nieokreślony</td>\n",
       "      <td>awaria</td>\n",
       "    </tr>\n",
       "  </tbody>\n",
       "</table>\n",
       "<p>377 rows × 6 columns</p>\n",
       "</div>"
      ],
      "text/plain": [
       "    Rodzaj zawiad.  Zawiadomienie Data zawiadom.       Oznaczenie  \\\n",
       "0               PT       12707124     2025-06-30  1-Modelator OPM   \n",
       "1               1P       12701513     2025-06-26  1-Modelator OPM   \n",
       "2               PQ       12680271     2025-06-09  1-Modelator OPM   \n",
       "3               1P       12680129     2025-06-08  1-Modelator OPM   \n",
       "4               1P       12680117     2025-06-09  1-Modelator OPM   \n",
       "..             ...            ...            ...              ...   \n",
       "372             PM       10208260     2014-11-18  1-Modelator OPM   \n",
       "373             PM       10200120     2014-10-22  1-Modelator OPM   \n",
       "374             PM       10199517     2014-10-21  1-Modelator OPM   \n",
       "375             PM       10196696     2014-10-10  1-Modelator OPM   \n",
       "376             PM       10184375     2014-09-03  1-Modelator OPM   \n",
       "\n",
       "        Priorytet Typ zawiadomienia  \n",
       "0    Nieokreślony        preventive  \n",
       "1        2-wysoki            awaria  \n",
       "2         4-niski      usprawnienie  \n",
       "3        2-wysoki            awaria  \n",
       "4        3-średni            awaria  \n",
       "..            ...               ...  \n",
       "372  Nieokreślony            awaria  \n",
       "373  Nieokreślony            awaria  \n",
       "374  Nieokreślony            awaria  \n",
       "375  Nieokreślony            awaria  \n",
       "376  Nieokreślony            awaria  \n",
       "\n",
       "[377 rows x 6 columns]"
      ]
     },
     "execution_count": 103,
     "metadata": {},
     "output_type": "execute_result"
    }
   ],
   "source": [
    "type_zawiad = {\n",
    "    \"1P\": \"awaria\",\n",
    "    \"PQ\": \"usprawnienie\",\n",
    "    \"PT\": \"preventive\",\n",
    "    \"PP\": \"asysta produkcji\",\n",
    "    \"PM\": \"awaria\",\n",
    "    \"BT\": \"żądanie obsługi\",\n",
    "    \"BP\": \"żądanie obsługi\"\n",
    "}\n",
    "\n",
    "df['Typ zawiadomienia'] = df['Rodzaj zawiad.'].map(type_zawiad).fillna('inne')\n",
    "df"
   ]
  },
  {
   "cell_type": "code",
   "execution_count": 104,
   "id": "669aa45e",
   "metadata": {},
   "outputs": [
    {
     "data": {
      "text/html": [
       "<div>\n",
       "<style scoped>\n",
       "    .dataframe tbody tr th:only-of-type {\n",
       "        vertical-align: middle;\n",
       "    }\n",
       "\n",
       "    .dataframe tbody tr th {\n",
       "        vertical-align: top;\n",
       "    }\n",
       "\n",
       "    .dataframe thead th {\n",
       "        text-align: right;\n",
       "    }\n",
       "</style>\n",
       "<table border=\"1\" class=\"dataframe\">\n",
       "  <thead>\n",
       "    <tr style=\"text-align: right;\">\n",
       "      <th></th>\n",
       "      <th>Rodzaj zawiad.</th>\n",
       "      <th>Zawiadomienie</th>\n",
       "      <th>Data zawiadom.</th>\n",
       "      <th>Oznaczenie</th>\n",
       "      <th>Priorytet</th>\n",
       "      <th>Typ zawiadomienia</th>\n",
       "      <th>Dzień tygodnia</th>\n",
       "    </tr>\n",
       "  </thead>\n",
       "  <tbody>\n",
       "    <tr>\n",
       "      <th>0</th>\n",
       "      <td>PT</td>\n",
       "      <td>12707124</td>\n",
       "      <td>2025-06-30</td>\n",
       "      <td>1-Modelator OPM</td>\n",
       "      <td>Nieokreślony</td>\n",
       "      <td>preventive</td>\n",
       "      <td>Monday</td>\n",
       "    </tr>\n",
       "    <tr>\n",
       "      <th>1</th>\n",
       "      <td>1P</td>\n",
       "      <td>12701513</td>\n",
       "      <td>2025-06-26</td>\n",
       "      <td>1-Modelator OPM</td>\n",
       "      <td>2-wysoki</td>\n",
       "      <td>awaria</td>\n",
       "      <td>Thursday</td>\n",
       "    </tr>\n",
       "    <tr>\n",
       "      <th>2</th>\n",
       "      <td>PQ</td>\n",
       "      <td>12680271</td>\n",
       "      <td>2025-06-09</td>\n",
       "      <td>1-Modelator OPM</td>\n",
       "      <td>4-niski</td>\n",
       "      <td>usprawnienie</td>\n",
       "      <td>Monday</td>\n",
       "    </tr>\n",
       "    <tr>\n",
       "      <th>3</th>\n",
       "      <td>1P</td>\n",
       "      <td>12680129</td>\n",
       "      <td>2025-06-08</td>\n",
       "      <td>1-Modelator OPM</td>\n",
       "      <td>2-wysoki</td>\n",
       "      <td>awaria</td>\n",
       "      <td>Sunday</td>\n",
       "    </tr>\n",
       "    <tr>\n",
       "      <th>4</th>\n",
       "      <td>1P</td>\n",
       "      <td>12680117</td>\n",
       "      <td>2025-06-09</td>\n",
       "      <td>1-Modelator OPM</td>\n",
       "      <td>3-średni</td>\n",
       "      <td>awaria</td>\n",
       "      <td>Monday</td>\n",
       "    </tr>\n",
       "    <tr>\n",
       "      <th>...</th>\n",
       "      <td>...</td>\n",
       "      <td>...</td>\n",
       "      <td>...</td>\n",
       "      <td>...</td>\n",
       "      <td>...</td>\n",
       "      <td>...</td>\n",
       "      <td>...</td>\n",
       "    </tr>\n",
       "    <tr>\n",
       "      <th>372</th>\n",
       "      <td>PM</td>\n",
       "      <td>10208260</td>\n",
       "      <td>2014-11-18</td>\n",
       "      <td>1-Modelator OPM</td>\n",
       "      <td>Nieokreślony</td>\n",
       "      <td>awaria</td>\n",
       "      <td>Tuesday</td>\n",
       "    </tr>\n",
       "    <tr>\n",
       "      <th>373</th>\n",
       "      <td>PM</td>\n",
       "      <td>10200120</td>\n",
       "      <td>2014-10-22</td>\n",
       "      <td>1-Modelator OPM</td>\n",
       "      <td>Nieokreślony</td>\n",
       "      <td>awaria</td>\n",
       "      <td>Wednesday</td>\n",
       "    </tr>\n",
       "    <tr>\n",
       "      <th>374</th>\n",
       "      <td>PM</td>\n",
       "      <td>10199517</td>\n",
       "      <td>2014-10-21</td>\n",
       "      <td>1-Modelator OPM</td>\n",
       "      <td>Nieokreślony</td>\n",
       "      <td>awaria</td>\n",
       "      <td>Tuesday</td>\n",
       "    </tr>\n",
       "    <tr>\n",
       "      <th>375</th>\n",
       "      <td>PM</td>\n",
       "      <td>10196696</td>\n",
       "      <td>2014-10-10</td>\n",
       "      <td>1-Modelator OPM</td>\n",
       "      <td>Nieokreślony</td>\n",
       "      <td>awaria</td>\n",
       "      <td>Friday</td>\n",
       "    </tr>\n",
       "    <tr>\n",
       "      <th>376</th>\n",
       "      <td>PM</td>\n",
       "      <td>10184375</td>\n",
       "      <td>2014-09-03</td>\n",
       "      <td>1-Modelator OPM</td>\n",
       "      <td>Nieokreślony</td>\n",
       "      <td>awaria</td>\n",
       "      <td>Wednesday</td>\n",
       "    </tr>\n",
       "  </tbody>\n",
       "</table>\n",
       "<p>377 rows × 7 columns</p>\n",
       "</div>"
      ],
      "text/plain": [
       "    Rodzaj zawiad.  Zawiadomienie Data zawiadom.       Oznaczenie  \\\n",
       "0               PT       12707124     2025-06-30  1-Modelator OPM   \n",
       "1               1P       12701513     2025-06-26  1-Modelator OPM   \n",
       "2               PQ       12680271     2025-06-09  1-Modelator OPM   \n",
       "3               1P       12680129     2025-06-08  1-Modelator OPM   \n",
       "4               1P       12680117     2025-06-09  1-Modelator OPM   \n",
       "..             ...            ...            ...              ...   \n",
       "372             PM       10208260     2014-11-18  1-Modelator OPM   \n",
       "373             PM       10200120     2014-10-22  1-Modelator OPM   \n",
       "374             PM       10199517     2014-10-21  1-Modelator OPM   \n",
       "375             PM       10196696     2014-10-10  1-Modelator OPM   \n",
       "376             PM       10184375     2014-09-03  1-Modelator OPM   \n",
       "\n",
       "        Priorytet Typ zawiadomienia Dzień tygodnia  \n",
       "0    Nieokreślony        preventive         Monday  \n",
       "1        2-wysoki            awaria       Thursday  \n",
       "2         4-niski      usprawnienie         Monday  \n",
       "3        2-wysoki            awaria         Sunday  \n",
       "4        3-średni            awaria         Monday  \n",
       "..            ...               ...            ...  \n",
       "372  Nieokreślony            awaria        Tuesday  \n",
       "373  Nieokreślony            awaria      Wednesday  \n",
       "374  Nieokreślony            awaria        Tuesday  \n",
       "375  Nieokreślony            awaria         Friday  \n",
       "376  Nieokreślony            awaria      Wednesday  \n",
       "\n",
       "[377 rows x 7 columns]"
      ]
     },
     "execution_count": 104,
     "metadata": {},
     "output_type": "execute_result"
    }
   ],
   "source": [
    "df[\"Dzień tygodnia\"] = df[\"Data zawiadom.\"].dt.day_name()\n",
    "\n",
    "df"
   ]
  },
  {
   "cell_type": "code",
   "execution_count": 105,
   "id": "038a5d48",
   "metadata": {},
   "outputs": [],
   "source": [
    "df.to_csv('cleaned_modelator_opm.csv', index=False, encoding=\"utf-8\")"
   ]
  },
  {
   "cell_type": "code",
   "execution_count": 106,
   "id": "60a82a86",
   "metadata": {},
   "outputs": [
    {
     "name": "stderr",
     "output_type": "stream",
     "text": [
      "/tmp/ipykernel_17578/1119631490.py:5: SettingWithCopyWarning:\n",
      "\n",
      "\n",
      "A value is trying to be set on a copy of a slice from a DataFrame.\n",
      "Try using .loc[row_indexer,col_indexer] = value instead\n",
      "\n",
      "See the caveats in the documentation: https://pandas.pydata.org/pandas-docs/stable/user_guide/indexing.html#returning-a-view-versus-a-copy\n",
      "\n",
      "/tmp/ipykernel_17578/1119631490.py:6: SettingWithCopyWarning:\n",
      "\n",
      "\n",
      "A value is trying to be set on a copy of a slice from a DataFrame.\n",
      "Try using .loc[row_indexer,col_indexer] = value instead\n",
      "\n",
      "See the caveats in the documentation: https://pandas.pydata.org/pandas-docs/stable/user_guide/indexing.html#returning-a-view-versus-a-copy\n",
      "\n"
     ]
    },
    {
     "data": {
      "application/vnd.plotly.v1+json": {
       "config": {
        "plotlyServerURL": "https://plot.ly"
       },
       "data": [
        {
         "hovertemplate": "Typ zawiadomienia=awaria<br>Miesiąc=%{x}<br>Liczba zgłoszeń=%{y}<extra></extra>",
         "legendgroup": "awaria",
         "line": {
          "color": "#636efa",
          "dash": "solid"
         },
         "marker": {
          "symbol": "circle"
         },
         "mode": "lines+markers",
         "name": "awaria",
         "orientation": "v",
         "showlegend": true,
         "type": "scatter",
         "x": [
          "2020-01-01T00:00:00.000000000",
          "2020-02-01T00:00:00.000000000",
          "2020-05-01T00:00:00.000000000",
          "2020-06-01T00:00:00.000000000",
          "2020-07-01T00:00:00.000000000",
          "2020-08-01T00:00:00.000000000",
          "2020-09-01T00:00:00.000000000",
          "2020-10-01T00:00:00.000000000",
          "2020-11-01T00:00:00.000000000",
          "2020-12-01T00:00:00.000000000",
          "2021-01-01T00:00:00.000000000",
          "2021-05-01T00:00:00.000000000",
          "2021-06-01T00:00:00.000000000",
          "2021-07-01T00:00:00.000000000",
          "2021-08-01T00:00:00.000000000",
          "2021-09-01T00:00:00.000000000",
          "2021-10-01T00:00:00.000000000",
          "2021-11-01T00:00:00.000000000",
          "2021-12-01T00:00:00.000000000",
          "2022-01-01T00:00:00.000000000",
          "2022-02-01T00:00:00.000000000",
          "2022-03-01T00:00:00.000000000",
          "2022-04-01T00:00:00.000000000",
          "2022-05-01T00:00:00.000000000",
          "2022-06-01T00:00:00.000000000",
          "2022-07-01T00:00:00.000000000",
          "2022-08-01T00:00:00.000000000",
          "2022-09-01T00:00:00.000000000",
          "2022-10-01T00:00:00.000000000",
          "2022-11-01T00:00:00.000000000",
          "2022-12-01T00:00:00.000000000",
          "2023-01-01T00:00:00.000000000",
          "2023-02-01T00:00:00.000000000",
          "2023-03-01T00:00:00.000000000",
          "2023-04-01T00:00:00.000000000",
          "2023-05-01T00:00:00.000000000",
          "2023-07-01T00:00:00.000000000",
          "2023-08-01T00:00:00.000000000",
          "2023-09-01T00:00:00.000000000",
          "2023-10-01T00:00:00.000000000",
          "2023-11-01T00:00:00.000000000",
          "2023-12-01T00:00:00.000000000",
          "2024-01-01T00:00:00.000000000",
          "2024-02-01T00:00:00.000000000",
          "2024-04-01T00:00:00.000000000",
          "2024-05-01T00:00:00.000000000",
          "2024-07-01T00:00:00.000000000",
          "2024-08-01T00:00:00.000000000",
          "2024-10-01T00:00:00.000000000",
          "2024-11-01T00:00:00.000000000",
          "2024-12-01T00:00:00.000000000",
          "2025-01-01T00:00:00.000000000",
          "2025-02-01T00:00:00.000000000",
          "2025-03-01T00:00:00.000000000",
          "2025-05-01T00:00:00.000000000",
          "2025-06-01T00:00:00.000000000"
         ],
         "xaxis": "x",
         "y": {
          "bdata": "BAMKBgYIEQQEAgYJBggEAwMEBAUCAQEDBwcICAMDAQICAwECAwEDAQQBAwEBAQECAgoBAQECAQM=",
          "dtype": "i1"
         },
         "yaxis": "y"
        },
        {
         "hovertemplate": "Typ zawiadomienia=usprawnienie<br>Miesiąc=%{x}<br>Liczba zgłoszeń=%{y}<extra></extra>",
         "legendgroup": "usprawnienie",
         "line": {
          "color": "#EF553B",
          "dash": "solid"
         },
         "marker": {
          "symbol": "circle"
         },
         "mode": "lines+markers",
         "name": "usprawnienie",
         "orientation": "v",
         "showlegend": true,
         "type": "scatter",
         "x": [
          "2020-01-01T00:00:00.000000000",
          "2020-02-01T00:00:00.000000000",
          "2023-01-01T00:00:00.000000000",
          "2023-03-01T00:00:00.000000000",
          "2025-03-01T00:00:00.000000000",
          "2025-06-01T00:00:00.000000000"
         ],
         "xaxis": "x",
         "y": {
          "bdata": "AgEBAQEB",
          "dtype": "i1"
         },
         "yaxis": "y"
        },
        {
         "hovertemplate": "Typ zawiadomienia=preventive<br>Miesiąc=%{x}<br>Liczba zgłoszeń=%{y}<extra></extra>",
         "legendgroup": "preventive",
         "line": {
          "color": "#00cc96",
          "dash": "solid"
         },
         "marker": {
          "symbol": "circle"
         },
         "mode": "lines+markers",
         "name": "preventive",
         "orientation": "v",
         "showlegend": true,
         "type": "scatter",
         "x": [
          "2020-07-01T00:00:00.000000000",
          "2021-02-01T00:00:00.000000000",
          "2021-03-01T00:00:00.000000000",
          "2021-04-01T00:00:00.000000000",
          "2021-05-01T00:00:00.000000000",
          "2021-06-01T00:00:00.000000000",
          "2021-10-01T00:00:00.000000000",
          "2021-12-01T00:00:00.000000000",
          "2022-01-01T00:00:00.000000000",
          "2022-02-01T00:00:00.000000000",
          "2022-03-01T00:00:00.000000000",
          "2022-04-01T00:00:00.000000000",
          "2022-06-01T00:00:00.000000000",
          "2022-10-01T00:00:00.000000000",
          "2023-02-01T00:00:00.000000000",
          "2023-03-01T00:00:00.000000000",
          "2023-05-01T00:00:00.000000000",
          "2023-06-01T00:00:00.000000000",
          "2023-09-01T00:00:00.000000000",
          "2024-01-01T00:00:00.000000000",
          "2024-02-01T00:00:00.000000000",
          "2024-04-01T00:00:00.000000000",
          "2024-07-01T00:00:00.000000000",
          "2024-10-01T00:00:00.000000000",
          "2024-11-01T00:00:00.000000000",
          "2024-12-01T00:00:00.000000000",
          "2025-03-01T00:00:00.000000000",
          "2025-06-01T00:00:00.000000000"
         ],
         "xaxis": "x",
         "y": {
          "bdata": "AgEBAQEBAgEBAQEBAQECAQECAQIBAQEBAQIBAQ==",
          "dtype": "i1"
         },
         "yaxis": "y"
        },
        {
         "hovertemplate": "Typ zawiadomienia=asysta produkcji<br>Miesiąc=%{x}<br>Liczba zgłoszeń=%{y}<extra></extra>",
         "legendgroup": "asysta produkcji",
         "line": {
          "color": "#ab63fa",
          "dash": "solid"
         },
         "marker": {
          "symbol": "circle"
         },
         "mode": "lines+markers",
         "name": "asysta produkcji",
         "orientation": "v",
         "showlegend": true,
         "type": "scatter",
         "x": [
          "2021-10-01T00:00:00.000000000",
          "2021-12-01T00:00:00.000000000"
         ],
         "xaxis": "x",
         "y": {
          "bdata": "AQE=",
          "dtype": "i1"
         },
         "yaxis": "y"
        }
       ],
       "layout": {
        "legend": {
         "title": {
          "text": "Typ zawiadomienia"
         },
         "tracegroupgap": 0
        },
        "template": {
         "data": {
          "bar": [
           {
            "error_x": {
             "color": "#2a3f5f"
            },
            "error_y": {
             "color": "#2a3f5f"
            },
            "marker": {
             "line": {
              "color": "#E5ECF6",
              "width": 0.5
             },
             "pattern": {
              "fillmode": "overlay",
              "size": 10,
              "solidity": 0.2
             }
            },
            "type": "bar"
           }
          ],
          "barpolar": [
           {
            "marker": {
             "line": {
              "color": "#E5ECF6",
              "width": 0.5
             },
             "pattern": {
              "fillmode": "overlay",
              "size": 10,
              "solidity": 0.2
             }
            },
            "type": "barpolar"
           }
          ],
          "carpet": [
           {
            "aaxis": {
             "endlinecolor": "#2a3f5f",
             "gridcolor": "white",
             "linecolor": "white",
             "minorgridcolor": "white",
             "startlinecolor": "#2a3f5f"
            },
            "baxis": {
             "endlinecolor": "#2a3f5f",
             "gridcolor": "white",
             "linecolor": "white",
             "minorgridcolor": "white",
             "startlinecolor": "#2a3f5f"
            },
            "type": "carpet"
           }
          ],
          "choropleth": [
           {
            "colorbar": {
             "outlinewidth": 0,
             "ticks": ""
            },
            "type": "choropleth"
           }
          ],
          "contour": [
           {
            "colorbar": {
             "outlinewidth": 0,
             "ticks": ""
            },
            "colorscale": [
             [
              0,
              "#0d0887"
             ],
             [
              0.1111111111111111,
              "#46039f"
             ],
             [
              0.2222222222222222,
              "#7201a8"
             ],
             [
              0.3333333333333333,
              "#9c179e"
             ],
             [
              0.4444444444444444,
              "#bd3786"
             ],
             [
              0.5555555555555556,
              "#d8576b"
             ],
             [
              0.6666666666666666,
              "#ed7953"
             ],
             [
              0.7777777777777778,
              "#fb9f3a"
             ],
             [
              0.8888888888888888,
              "#fdca26"
             ],
             [
              1,
              "#f0f921"
             ]
            ],
            "type": "contour"
           }
          ],
          "contourcarpet": [
           {
            "colorbar": {
             "outlinewidth": 0,
             "ticks": ""
            },
            "type": "contourcarpet"
           }
          ],
          "heatmap": [
           {
            "colorbar": {
             "outlinewidth": 0,
             "ticks": ""
            },
            "colorscale": [
             [
              0,
              "#0d0887"
             ],
             [
              0.1111111111111111,
              "#46039f"
             ],
             [
              0.2222222222222222,
              "#7201a8"
             ],
             [
              0.3333333333333333,
              "#9c179e"
             ],
             [
              0.4444444444444444,
              "#bd3786"
             ],
             [
              0.5555555555555556,
              "#d8576b"
             ],
             [
              0.6666666666666666,
              "#ed7953"
             ],
             [
              0.7777777777777778,
              "#fb9f3a"
             ],
             [
              0.8888888888888888,
              "#fdca26"
             ],
             [
              1,
              "#f0f921"
             ]
            ],
            "type": "heatmap"
           }
          ],
          "histogram": [
           {
            "marker": {
             "pattern": {
              "fillmode": "overlay",
              "size": 10,
              "solidity": 0.2
             }
            },
            "type": "histogram"
           }
          ],
          "histogram2d": [
           {
            "colorbar": {
             "outlinewidth": 0,
             "ticks": ""
            },
            "colorscale": [
             [
              0,
              "#0d0887"
             ],
             [
              0.1111111111111111,
              "#46039f"
             ],
             [
              0.2222222222222222,
              "#7201a8"
             ],
             [
              0.3333333333333333,
              "#9c179e"
             ],
             [
              0.4444444444444444,
              "#bd3786"
             ],
             [
              0.5555555555555556,
              "#d8576b"
             ],
             [
              0.6666666666666666,
              "#ed7953"
             ],
             [
              0.7777777777777778,
              "#fb9f3a"
             ],
             [
              0.8888888888888888,
              "#fdca26"
             ],
             [
              1,
              "#f0f921"
             ]
            ],
            "type": "histogram2d"
           }
          ],
          "histogram2dcontour": [
           {
            "colorbar": {
             "outlinewidth": 0,
             "ticks": ""
            },
            "colorscale": [
             [
              0,
              "#0d0887"
             ],
             [
              0.1111111111111111,
              "#46039f"
             ],
             [
              0.2222222222222222,
              "#7201a8"
             ],
             [
              0.3333333333333333,
              "#9c179e"
             ],
             [
              0.4444444444444444,
              "#bd3786"
             ],
             [
              0.5555555555555556,
              "#d8576b"
             ],
             [
              0.6666666666666666,
              "#ed7953"
             ],
             [
              0.7777777777777778,
              "#fb9f3a"
             ],
             [
              0.8888888888888888,
              "#fdca26"
             ],
             [
              1,
              "#f0f921"
             ]
            ],
            "type": "histogram2dcontour"
           }
          ],
          "mesh3d": [
           {
            "colorbar": {
             "outlinewidth": 0,
             "ticks": ""
            },
            "type": "mesh3d"
           }
          ],
          "parcoords": [
           {
            "line": {
             "colorbar": {
              "outlinewidth": 0,
              "ticks": ""
             }
            },
            "type": "parcoords"
           }
          ],
          "pie": [
           {
            "automargin": true,
            "type": "pie"
           }
          ],
          "scatter": [
           {
            "fillpattern": {
             "fillmode": "overlay",
             "size": 10,
             "solidity": 0.2
            },
            "type": "scatter"
           }
          ],
          "scatter3d": [
           {
            "line": {
             "colorbar": {
              "outlinewidth": 0,
              "ticks": ""
             }
            },
            "marker": {
             "colorbar": {
              "outlinewidth": 0,
              "ticks": ""
             }
            },
            "type": "scatter3d"
           }
          ],
          "scattercarpet": [
           {
            "marker": {
             "colorbar": {
              "outlinewidth": 0,
              "ticks": ""
             }
            },
            "type": "scattercarpet"
           }
          ],
          "scattergeo": [
           {
            "marker": {
             "colorbar": {
              "outlinewidth": 0,
              "ticks": ""
             }
            },
            "type": "scattergeo"
           }
          ],
          "scattergl": [
           {
            "marker": {
             "colorbar": {
              "outlinewidth": 0,
              "ticks": ""
             }
            },
            "type": "scattergl"
           }
          ],
          "scattermap": [
           {
            "marker": {
             "colorbar": {
              "outlinewidth": 0,
              "ticks": ""
             }
            },
            "type": "scattermap"
           }
          ],
          "scattermapbox": [
           {
            "marker": {
             "colorbar": {
              "outlinewidth": 0,
              "ticks": ""
             }
            },
            "type": "scattermapbox"
           }
          ],
          "scatterpolar": [
           {
            "marker": {
             "colorbar": {
              "outlinewidth": 0,
              "ticks": ""
             }
            },
            "type": "scatterpolar"
           }
          ],
          "scatterpolargl": [
           {
            "marker": {
             "colorbar": {
              "outlinewidth": 0,
              "ticks": ""
             }
            },
            "type": "scatterpolargl"
           }
          ],
          "scatterternary": [
           {
            "marker": {
             "colorbar": {
              "outlinewidth": 0,
              "ticks": ""
             }
            },
            "type": "scatterternary"
           }
          ],
          "surface": [
           {
            "colorbar": {
             "outlinewidth": 0,
             "ticks": ""
            },
            "colorscale": [
             [
              0,
              "#0d0887"
             ],
             [
              0.1111111111111111,
              "#46039f"
             ],
             [
              0.2222222222222222,
              "#7201a8"
             ],
             [
              0.3333333333333333,
              "#9c179e"
             ],
             [
              0.4444444444444444,
              "#bd3786"
             ],
             [
              0.5555555555555556,
              "#d8576b"
             ],
             [
              0.6666666666666666,
              "#ed7953"
             ],
             [
              0.7777777777777778,
              "#fb9f3a"
             ],
             [
              0.8888888888888888,
              "#fdca26"
             ],
             [
              1,
              "#f0f921"
             ]
            ],
            "type": "surface"
           }
          ],
          "table": [
           {
            "cells": {
             "fill": {
              "color": "#EBF0F8"
             },
             "line": {
              "color": "white"
             }
            },
            "header": {
             "fill": {
              "color": "#C8D4E3"
             },
             "line": {
              "color": "white"
             }
            },
            "type": "table"
           }
          ]
         },
         "layout": {
          "annotationdefaults": {
           "arrowcolor": "#2a3f5f",
           "arrowhead": 0,
           "arrowwidth": 1
          },
          "autotypenumbers": "strict",
          "coloraxis": {
           "colorbar": {
            "outlinewidth": 0,
            "ticks": ""
           }
          },
          "colorscale": {
           "diverging": [
            [
             0,
             "#8e0152"
            ],
            [
             0.1,
             "#c51b7d"
            ],
            [
             0.2,
             "#de77ae"
            ],
            [
             0.3,
             "#f1b6da"
            ],
            [
             0.4,
             "#fde0ef"
            ],
            [
             0.5,
             "#f7f7f7"
            ],
            [
             0.6,
             "#e6f5d0"
            ],
            [
             0.7,
             "#b8e186"
            ],
            [
             0.8,
             "#7fbc41"
            ],
            [
             0.9,
             "#4d9221"
            ],
            [
             1,
             "#276419"
            ]
           ],
           "sequential": [
            [
             0,
             "#0d0887"
            ],
            [
             0.1111111111111111,
             "#46039f"
            ],
            [
             0.2222222222222222,
             "#7201a8"
            ],
            [
             0.3333333333333333,
             "#9c179e"
            ],
            [
             0.4444444444444444,
             "#bd3786"
            ],
            [
             0.5555555555555556,
             "#d8576b"
            ],
            [
             0.6666666666666666,
             "#ed7953"
            ],
            [
             0.7777777777777778,
             "#fb9f3a"
            ],
            [
             0.8888888888888888,
             "#fdca26"
            ],
            [
             1,
             "#f0f921"
            ]
           ],
           "sequentialminus": [
            [
             0,
             "#0d0887"
            ],
            [
             0.1111111111111111,
             "#46039f"
            ],
            [
             0.2222222222222222,
             "#7201a8"
            ],
            [
             0.3333333333333333,
             "#9c179e"
            ],
            [
             0.4444444444444444,
             "#bd3786"
            ],
            [
             0.5555555555555556,
             "#d8576b"
            ],
            [
             0.6666666666666666,
             "#ed7953"
            ],
            [
             0.7777777777777778,
             "#fb9f3a"
            ],
            [
             0.8888888888888888,
             "#fdca26"
            ],
            [
             1,
             "#f0f921"
            ]
           ]
          },
          "colorway": [
           "#636efa",
           "#EF553B",
           "#00cc96",
           "#ab63fa",
           "#FFA15A",
           "#19d3f3",
           "#FF6692",
           "#B6E880",
           "#FF97FF",
           "#FECB52"
          ],
          "font": {
           "color": "#2a3f5f"
          },
          "geo": {
           "bgcolor": "white",
           "lakecolor": "white",
           "landcolor": "#E5ECF6",
           "showlakes": true,
           "showland": true,
           "subunitcolor": "white"
          },
          "hoverlabel": {
           "align": "left"
          },
          "hovermode": "closest",
          "mapbox": {
           "style": "light"
          },
          "paper_bgcolor": "white",
          "plot_bgcolor": "#E5ECF6",
          "polar": {
           "angularaxis": {
            "gridcolor": "white",
            "linecolor": "white",
            "ticks": ""
           },
           "bgcolor": "#E5ECF6",
           "radialaxis": {
            "gridcolor": "white",
            "linecolor": "white",
            "ticks": ""
           }
          },
          "scene": {
           "xaxis": {
            "backgroundcolor": "#E5ECF6",
            "gridcolor": "white",
            "gridwidth": 2,
            "linecolor": "white",
            "showbackground": true,
            "ticks": "",
            "zerolinecolor": "white"
           },
           "yaxis": {
            "backgroundcolor": "#E5ECF6",
            "gridcolor": "white",
            "gridwidth": 2,
            "linecolor": "white",
            "showbackground": true,
            "ticks": "",
            "zerolinecolor": "white"
           },
           "zaxis": {
            "backgroundcolor": "#E5ECF6",
            "gridcolor": "white",
            "gridwidth": 2,
            "linecolor": "white",
            "showbackground": true,
            "ticks": "",
            "zerolinecolor": "white"
           }
          },
          "shapedefaults": {
           "line": {
            "color": "#2a3f5f"
           }
          },
          "ternary": {
           "aaxis": {
            "gridcolor": "white",
            "linecolor": "white",
            "ticks": ""
           },
           "baxis": {
            "gridcolor": "white",
            "linecolor": "white",
            "ticks": ""
           },
           "bgcolor": "#E5ECF6",
           "caxis": {
            "gridcolor": "white",
            "linecolor": "white",
            "ticks": ""
           }
          },
          "title": {
           "x": 0.05
          },
          "xaxis": {
           "automargin": true,
           "gridcolor": "white",
           "linecolor": "white",
           "ticks": "",
           "title": {
            "standoff": 15
           },
           "zerolinecolor": "white",
           "zerolinewidth": 2
          },
          "yaxis": {
           "automargin": true,
           "gridcolor": "white",
           "linecolor": "white",
           "ticks": "",
           "title": {
            "standoff": 15
           },
           "zerolinecolor": "white",
           "zerolinewidth": 2
          }
         }
        },
        "title": {
         "text": "Liczba zgłoszeń Modelatora OPM w podziale na typ zawiadomienia (2020+)"
        },
        "xaxis": {
         "anchor": "y",
         "domain": [
          0,
          1
         ],
         "tickangle": 45,
         "tickformat": "%Y-%m",
         "title": {
          "text": "Miesiąc"
         }
        },
        "yaxis": {
         "anchor": "x",
         "domain": [
          0,
          1
         ],
         "title": {
          "text": "Liczba zgłoszeń"
         }
        }
       }
      }
     },
     "metadata": {},
     "output_type": "display_data"
    }
   ],
   "source": [
    "import pandas as pd\n",
    "import plotly.express as px\n",
    "\n",
    "df = df[df[\"Data zawiadom.\"] >= \"2020-01-01\"]\n",
    "df[\"Data zawiadom.\"] = pd.to_datetime(df[\"Data zawiadom.\"], errors=\"coerce\")\n",
    "df[\"Miesiąc\"] = df[\"Data zawiadom.\"].dt.to_period(\"M\").dt.to_timestamp()\n",
    "\n",
    "monthly_grouped = df.groupby([\"Miesiąc\", \"Typ zawiadomienia\"]).size().reset_index(name=\"Liczba awarii\")\n",
    "\n",
    "fig = px.line(\n",
    "    monthly_grouped,\n",
    "    x=\"Miesiąc\",\n",
    "    y=\"Liczba awarii\",\n",
    "    color=\"Typ zawiadomienia\",\n",
    "    markers=True,\n",
    "    title=\"Liczba zgłoszeń Modelatora OPM w podziale na typ zawiadomienia (2020+)\",\n",
    "    labels={\"Miesiąc\": \"Miesiąc\", \"Liczba awarii\": \"Liczba zgłoszeń\", \"Typ zawiadomienia\": \"Typ zawiadomienia\"}\n",
    ")\n",
    "\n",
    "fig.update_layout(xaxis_tickformat=\"%Y-%m\", xaxis_tickangle=45)\n",
    "fig.show()"
   ]
  },
  {
   "cell_type": "code",
   "execution_count": null,
   "id": "21e36e82",
   "metadata": {},
   "outputs": [],
   "source": [
    "# za mało danych do modelu"
   ]
  }
 ],
 "metadata": {
  "kernelspec": {
   "display_name": "Python 3",
   "language": "python",
   "name": "python3"
  },
  "language_info": {
   "codemirror_mode": {
    "name": "ipython",
    "version": 3
   },
   "file_extension": ".py",
   "mimetype": "text/x-python",
   "name": "python",
   "nbconvert_exporter": "python",
   "pygments_lexer": "ipython3",
   "version": "3.12.1"
  }
 },
 "nbformat": 4,
 "nbformat_minor": 5
}
