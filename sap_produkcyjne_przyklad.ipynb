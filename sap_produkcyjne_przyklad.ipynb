{
 "cells": [
  {
   "cell_type": "code",
   "execution_count": 9,
   "id": "818f5846",
   "metadata": {},
   "outputs": [],
   "source": [
    "import pandas as pd"
   ]
  },
  {
   "cell_type": "code",
   "execution_count": 10,
   "id": "55edd379",
   "metadata": {},
   "outputs": [],
   "source": [
    "df = pd.read_csv('csv_files/sap_produkcyjne_przyklad.csv', encoding='utf-8-sig', sep=\";\")"
   ]
  },
  {
   "cell_type": "code",
   "execution_count": 11,
   "id": "2c870cdb",
   "metadata": {},
   "outputs": [],
   "source": [
    "with open('csv_files/sap_produkcyjne_przyklad.csv', encoding=\"utf-8\") as f:\n",
    "    first_line = f.readline()\n",
    "\n",
    "import re\n",
    "od_match = re.search(r\"Od\\s+(\\d{2}\\.\\d{2}\\.\\d{4})\", first_line)\n",
    "do_match = re.search(r\"Do\\s+(\\d{2}\\.\\d{2}\\.\\d{4})\", first_line)\n",
    "\n",
    "od_date = pd.to_datetime(od_match.group(1), dayfirst=True).date() if od_match else None\n",
    "do_date = pd.to_datetime(do_match.group(1), dayfirst=True).date() if do_match else None"
   ]
  },
  {
   "cell_type": "code",
   "execution_count": 12,
   "id": "2c79d29e",
   "metadata": {},
   "outputs": [
    {
     "data": {
      "text/html": [
       "<div>\n",
       "<style scoped>\n",
       "    .dataframe tbody tr th:only-of-type {\n",
       "        vertical-align: middle;\n",
       "    }\n",
       "\n",
       "    .dataframe tbody tr th {\n",
       "        vertical-align: top;\n",
       "    }\n",
       "\n",
       "    .dataframe thead th {\n",
       "        text-align: right;\n",
       "    }\n",
       "</style>\n",
       "<table border=\"1\" class=\"dataframe\">\n",
       "  <thead>\n",
       "    <tr style=\"text-align: right;\">\n",
       "      <th></th>\n",
       "      <th>Linia</th>\n",
       "      <th>Rodzina</th>\n",
       "      <th>QLTOTAkt</th>\n",
       "      <th>QLTOTPln</th>\n",
       "      <th>%DvtProduk</th>\n",
       "      <th>ZmianaCzysty</th>\n",
       "      <th>ZmianaPrg</th>\n",
       "      <th>ZmianaStd</th>\n",
       "      <th>QZmStandard</th>\n",
       "      <th>QZmStd</th>\n",
       "      <th>...</th>\n",
       "      <th>%ELINIAObb</th>\n",
       "      <th>%ELINIAStd</th>\n",
       "      <th>%EPracEff</th>\n",
       "      <th>%EPracObb</th>\n",
       "      <th>%EPracStd</th>\n",
       "      <th>%ZyskuEff</th>\n",
       "      <th>%ZyskuObb</th>\n",
       "      <th>%ZyskuStd</th>\n",
       "      <th>Od</th>\n",
       "      <th>Do</th>\n",
       "    </tr>\n",
       "  </thead>\n",
       "  <tbody>\n",
       "    <tr>\n",
       "      <th>0</th>\n",
       "      <td>10801</td>\n",
       "      <td>Q101</td>\n",
       "      <td>1 782,169</td>\n",
       "      <td>1 780,745</td>\n",
       "      <td>0,080</td>\n",
       "      <td>19,122</td>\n",
       "      <td>19,107</td>\n",
       "      <td>19,237</td>\n",
       "      <td>109,648</td>\n",
       "      <td>109,648</td>\n",
       "      <td>...</td>\n",
       "      <td>84,999</td>\n",
       "      <td>84,429</td>\n",
       "      <td>88,553</td>\n",
       "      <td>85,000</td>\n",
       "      <td>84,430</td>\n",
       "      <td>84,999</td>\n",
       "      <td>85,000</td>\n",
       "      <td>84,425</td>\n",
       "      <td>2025-06-09</td>\n",
       "      <td>2025-06-15</td>\n",
       "    </tr>\n",
       "  </tbody>\n",
       "</table>\n",
       "<p>1 rows × 48 columns</p>\n",
       "</div>"
      ],
      "text/plain": [
       "   Linia Rodzina   QLTOTAkt   QLTOTPln %DvtProduk ZmianaCzysty ZmianaPrg  \\\n",
       "0  10801    Q101  1 782,169  1 780,745      0,080       19,122    19,107   \n",
       "\n",
       "  ZmianaStd QZmStandard   QZmStd  ... %ELINIAObb %ELINIAStd %EPracEff  \\\n",
       "0    19,237     109,648  109,648  ...     84,999     84,429    88,553   \n",
       "\n",
       "  %EPracObb %EPracStd %ZyskuEff %ZyskuObb %ZyskuStd          Od          Do  \n",
       "0    85,000    84,430    84,999    85,000    84,425  2025-06-09  2025-06-15  \n",
       "\n",
       "[1 rows x 48 columns]"
      ]
     },
     "execution_count": 12,
     "metadata": {},
     "output_type": "execute_result"
    }
   ],
   "source": [
    "header_row_1 = df.iloc[2].fillna(\"\").astype(str).str.strip()\n",
    "header_row_2 = df.iloc[3].fillna(\"\").astype(str).str.strip()\n",
    "combined_headers = [\n",
    "    (a + \" \" + b).strip().replace(\".\", \"\").replace(\"/\", \"\").replace(\" \", \"\")\n",
    "    for a, b in zip(header_row_1, header_row_2)\n",
    "]\n",
    "\n",
    "df = df.iloc[5:].copy()\n",
    "df.columns = combined_headers\n",
    "df.dropna(how=\"all\", inplace=True)\n",
    "df.reset_index(drop=True, inplace=True)\n",
    "\n",
    "df[\"Od\"] = od_date\n",
    "df[\"Do\"] = do_date\n",
    "df"
   ]
  }
 ],
 "metadata": {
  "kernelspec": {
   "display_name": "Python 3",
   "language": "python",
   "name": "python3"
  },
  "language_info": {
   "codemirror_mode": {
    "name": "ipython",
    "version": 3
   },
   "file_extension": ".py",
   "mimetype": "text/x-python",
   "name": "python",
   "nbconvert_exporter": "python",
   "pygments_lexer": "ipython3",
   "version": "3.12.1"
  }
 },
 "nbformat": 4,
 "nbformat_minor": 5
}
