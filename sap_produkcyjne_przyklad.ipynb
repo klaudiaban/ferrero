{
 "cells": [
  {
   "cell_type": "code",
   "execution_count": 22,
   "id": "818f5846",
   "metadata": {},
   "outputs": [],
   "source": [
    "import pandas as pd"
   ]
  },
  {
   "cell_type": "code",
   "execution_count": 23,
   "id": "55edd379",
   "metadata": {},
   "outputs": [],
   "source": [
    "df = pd.read_csv('csv_files/sap_produkcyjne_przyklad.csv', encoding='utf-8-sig', sep=\";\")"
   ]
  },
  {
   "cell_type": "code",
   "execution_count": 24,
   "id": "2c870cdb",
   "metadata": {},
   "outputs": [],
   "source": [
    "with open('csv_files/sap_produkcyjne_przyklad.csv', encoding=\"utf-8\") as f:\n",
    "    first_line = f.readline()\n",
    "\n",
    "import re\n",
    "od_match = re.search(r\"Od\\s+(\\d{2}\\.\\d{2}\\.\\d{4})\", first_line)\n",
    "do_match = re.search(r\"Do\\s+(\\d{2}\\.\\d{2}\\.\\d{4})\", first_line)\n",
    "\n",
    "od_date = pd.to_datetime(od_match.group(1), dayfirst=True).date() if od_match else None\n",
    "do_date = pd.to_datetime(do_match.group(1), dayfirst=True).date() if do_match else None"
   ]
  },
  {
   "cell_type": "code",
   "execution_count": 25,
   "id": "2c79d29e",
   "metadata": {},
   "outputs": [
    {
     "name": "stdout",
     "output_type": "stream",
     "text": [
      "Linia\n",
      "Rodzina\n",
      "QLTOTAkt\n",
      "QLTOTPln\n",
      "%DvtProduk\n",
      "ZmianaCzysty\n",
      "ZmianaPrg\n",
      "ZmianaStd\n",
      "QZmStandard\n",
      "QZmStd\n",
      "QZmAkt\n",
      "QZmDocel\n",
      "QZmStd\n",
      "QCPKAkt\n",
      "QCPKDocel\n",
      "QCPKStd\n",
      "OpeLNShAkt\n",
      "OpeLNShDocel\n",
      "OpeLNShStd\n",
      "OpeELShAkt\n",
      "OpeELShDocel\n",
      "OpeELShStd\n",
      "GQLAkt\n",
      "GQLDocel\n",
      "GQLStd\n",
      "%SCEff\n",
      "%SCStd\n",
      "%SCStd\n",
      "%SREff\n",
      "%SRStd\n",
      "%SRStd\n",
      "%SFSPEff\n",
      "%SFSPStd\n",
      "%SFSPStd\n",
      "GodzPracAkt\n",
      "GodzPracDocel\n",
      "GodzPracStd\n",
      "%ELINIAEff\n",
      "%ELINIAObb\n",
      "%ELINIAStd\n",
      "%EPracEff\n",
      "%EPracObb\n",
      "%EPracStd\n",
      "%ZyskuEff\n",
      "%ZyskuObb\n",
      "%ZyskuStd\n",
      "Od\n",
      "Do\n"
     ]
    }
   ],
   "source": [
    "header_row_1 = df.iloc[2].fillna(\"\").astype(str).str.strip()\n",
    "header_row_2 = df.iloc[3].fillna(\"\").astype(str).str.strip()\n",
    "combined_headers = [\n",
    "    (a + \" \" + b).strip().replace(\".\", \"\").replace(\"/\", \"\").replace(\" \", \"\")\n",
    "    for a, b in zip(header_row_1, header_row_2)\n",
    "]\n",
    "\n",
    "df = df.iloc[5:].copy()\n",
    "df.columns = combined_headers\n",
    "df.dropna(how=\"all\", inplace=True)\n",
    "df.reset_index(drop=True, inplace=True)\n",
    "\n",
    "df[\"Od\"] = od_date\n",
    "df[\"Do\"] = do_date\n",
    "for i in df.columns:\n",
    "    print(i)"
   ]
  }
 ],
 "metadata": {
  "kernelspec": {
   "display_name": "Python 3",
   "language": "python",
   "name": "python3"
  },
  "language_info": {
   "codemirror_mode": {
    "name": "ipython",
    "version": 3
   },
   "file_extension": ".py",
   "mimetype": "text/x-python",
   "name": "python",
   "nbconvert_exporter": "python",
   "pygments_lexer": "ipython3",
   "version": "3.12.1"
  }
 },
 "nbformat": 4,
 "nbformat_minor": 5
}
