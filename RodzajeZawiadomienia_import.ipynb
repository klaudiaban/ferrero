{
 "cells": [
  {
   "cell_type": "code",
   "execution_count": 1,
   "id": "199c1c56",
   "metadata": {},
   "outputs": [
    {
     "name": "stdout",
     "output_type": "stream",
     "text": [
      "Data inserted into rodzajezawiadomienia table.\n"
     ]
    }
   ],
   "source": [
    "import pandas as pd\n",
    "from sqlalchemy import create_engine\n",
    "\n",
    "rodzajezawiadomienia = pd.read_csv(\"csv_files/rodzaje_zawiadomienia.csv\", encoding=\"utf-8-sig\", sep=\";\")\n",
    "\n",
    "rodzajezawiadomienia.columns = [\"ZawiadomienieRodzaj\", \"ZawiadomienieRodzajNazwa\"]\n",
    "\n",
    "rodzajezawiadomienia[\"ZawiadomienieRodzaj\"] = rodzajezawiadomienia[\"ZawiadomienieRodzaj\"].astype(str)\n",
    "rodzajezawiadomienia[\"ZawiadomienieRodzajNazwa\"] = rodzajezawiadomienia[\"ZawiadomienieRodzajNazwa\"].astype(str)\n",
    "\n",
    "rodzajezawiadomienia = rodzajezawiadomienia.dropna(subset=[\"ZawiadomienieRodzaj\"])\n",
    "\n",
    "server = 'JASNACZERN'        \n",
    "database = 'ferrero'\n",
    "username = 'sa'\n",
    "password = '1234'\n",
    "driver = 'ODBC Driver 17 for SQL Server'\n",
    "\n",
    "conn_str = (\n",
    "    f\"mssql+pyodbc://{username}:{password}@{server}/{database}\"\n",
    "    f\"?driver={driver.replace(' ', '+')}\"\n",
    ")\n",
    "engine = create_engine(conn_str)\n",
    "\n",
    "try:\n",
    "    rodzajezawiadomienia.to_sql(\"RodzajeZawiadomienia\", con=engine, if_exists=\"append\", index=False)\n",
    "    print(\"Data inserted into rodzajezawiadomienia table.\")\n",
    "except Exception as e:\n",
    "    print(\"Insert failed:\", e)"
   ]
  }
 ],
 "metadata": {
  "kernelspec": {
   "display_name": "base",
   "language": "python",
   "name": "python3"
  },
  "language_info": {
   "codemirror_mode": {
    "name": "ipython",
    "version": 3
   },
   "file_extension": ".py",
   "mimetype": "text/x-python",
   "name": "python",
   "nbconvert_exporter": "python",
   "pygments_lexer": "ipython3",
   "version": "3.11.5"
  }
 },
 "nbformat": 4,
 "nbformat_minor": 5
}
