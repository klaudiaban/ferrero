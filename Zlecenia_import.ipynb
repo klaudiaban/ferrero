{
 "cells": [
  {
   "cell_type": "code",
   "execution_count": 1,
   "id": "94cd9fe6",
   "metadata": {},
   "outputs": [],
   "source": [
    "import pandas as pd"
   ]
  },
  {
   "cell_type": "code",
   "execution_count": 2,
   "id": "f1a0b790",
   "metadata": {},
   "outputs": [],
   "source": [
    "df = pd.read_csv('csv_files/zlecenia.csv', encoding='utf-8-sig', sep=\";\")"
   ]
  },
  {
   "cell_type": "code",
   "execution_count": 3,
   "id": "1aaf935f",
   "metadata": {},
   "outputs": [
    {
     "data": {
      "text/html": [
       "<div>\n",
       "<style scoped>\n",
       "    .dataframe tbody tr th:only-of-type {\n",
       "        vertical-align: middle;\n",
       "    }\n",
       "\n",
       "    .dataframe tbody tr th {\n",
       "        vertical-align: top;\n",
       "    }\n",
       "\n",
       "    .dataframe thead th {\n",
       "        text-align: right;\n",
       "    }\n",
       "</style>\n",
       "<table border=\"1\" class=\"dataframe\">\n",
       "  <thead>\n",
       "    <tr style=\"text-align: right;\">\n",
       "      <th></th>\n",
       "      <th>ZlecenieId</th>\n",
       "      <th>ZlecenieRodzaj</th>\n",
       "      <th>DataUtworzenia</th>\n",
       "      <th>CzasUtworzenia</th>\n",
       "    </tr>\n",
       "  </thead>\n",
       "  <tbody>\n",
       "    <tr>\n",
       "      <th>0</th>\n",
       "      <td>50000223634</td>\n",
       "      <td>PLM1</td>\n",
       "      <td>2025-06-01</td>\n",
       "      <td>13:47:51</td>\n",
       "    </tr>\n",
       "    <tr>\n",
       "      <th>1</th>\n",
       "      <td>50000223635</td>\n",
       "      <td>PLM1</td>\n",
       "      <td>2025-06-01</td>\n",
       "      <td>14:16:29</td>\n",
       "    </tr>\n",
       "    <tr>\n",
       "      <th>2</th>\n",
       "      <td>50000223636</td>\n",
       "      <td>PLM1</td>\n",
       "      <td>2025-06-01</td>\n",
       "      <td>14:19:02</td>\n",
       "    </tr>\n",
       "    <tr>\n",
       "      <th>3</th>\n",
       "      <td>50000223637</td>\n",
       "      <td>PLM6</td>\n",
       "      <td>2025-06-01</td>\n",
       "      <td>19:19:41</td>\n",
       "    </tr>\n",
       "    <tr>\n",
       "      <th>4</th>\n",
       "      <td>50000223638</td>\n",
       "      <td>PLM1</td>\n",
       "      <td>2025-06-02</td>\n",
       "      <td>19:46:55</td>\n",
       "    </tr>\n",
       "    <tr>\n",
       "      <th>...</th>\n",
       "      <td>...</td>\n",
       "      <td>...</td>\n",
       "      <td>...</td>\n",
       "      <td>...</td>\n",
       "    </tr>\n",
       "    <tr>\n",
       "      <th>2441</th>\n",
       "      <td>50000227189</td>\n",
       "      <td>PLM2</td>\n",
       "      <td>2025-06-30</td>\n",
       "      <td>09:11:13</td>\n",
       "    </tr>\n",
       "    <tr>\n",
       "      <th>2442</th>\n",
       "      <td>50000227190</td>\n",
       "      <td>PLM2</td>\n",
       "      <td>2025-06-30</td>\n",
       "      <td>09:11:45</td>\n",
       "    </tr>\n",
       "    <tr>\n",
       "      <th>2443</th>\n",
       "      <td>50000227191</td>\n",
       "      <td>PLM2</td>\n",
       "      <td>2025-06-30</td>\n",
       "      <td>09:12:26</td>\n",
       "    </tr>\n",
       "    <tr>\n",
       "      <th>2444</th>\n",
       "      <td>50000227200</td>\n",
       "      <td>PLM1</td>\n",
       "      <td>2025-06-30</td>\n",
       "      <td>16:36:53</td>\n",
       "    </tr>\n",
       "    <tr>\n",
       "      <th>2445</th>\n",
       "      <td>50000227220</td>\n",
       "      <td>PLM4</td>\n",
       "      <td>2025-06-30</td>\n",
       "      <td>16:51:08</td>\n",
       "    </tr>\n",
       "  </tbody>\n",
       "</table>\n",
       "<p>2446 rows × 4 columns</p>\n",
       "</div>"
      ],
      "text/plain": [
       "       ZlecenieId ZlecenieRodzaj DataUtworzenia CzasUtworzenia\n",
       "0     50000223634           PLM1     2025-06-01       13:47:51\n",
       "1     50000223635           PLM1     2025-06-01       14:16:29\n",
       "2     50000223636           PLM1     2025-06-01       14:19:02\n",
       "3     50000223637           PLM6     2025-06-01       19:19:41\n",
       "4     50000223638           PLM1     2025-06-02       19:46:55\n",
       "...           ...            ...            ...            ...\n",
       "2441  50000227189           PLM2     2025-06-30       09:11:13\n",
       "2442  50000227190           PLM2     2025-06-30       09:11:45\n",
       "2443  50000227191           PLM2     2025-06-30       09:12:26\n",
       "2444  50000227200           PLM1     2025-06-30       16:36:53\n",
       "2445  50000227220           PLM4     2025-06-30       16:51:08\n",
       "\n",
       "[2446 rows x 4 columns]"
      ]
     },
     "execution_count": 3,
     "metadata": {},
     "output_type": "execute_result"
    }
   ],
   "source": [
    "df = df[[\"Nr zlecenia\", \"Rodzaj zlecenia\", \"Data wprowadzenia\", \"Godzina utworzenia\"]]\n",
    "df.columns = [\"ZlecenieId\", \"ZlecenieRodzaj\", \"DataUtworzenia\", \"CzasUtworzenia\"]\n",
    "\n",
    "# Convert data types\n",
    "df[\"ZlecenieId\"] = pd.to_numeric(df[\"ZlecenieId\"], errors=\"coerce\")\n",
    "df[\"DataUtworzenia\"] = pd.to_datetime(df[\"DataUtworzenia\"], format=\"%d.%m.%Y\", errors=\"coerce\").dt.date\n",
    "df[\"CzasUtworzenia\"] = pd.to_datetime(df[\"CzasUtworzenia\"], format=\"%H:%M:%S\", errors=\"coerce\").dt.time\n",
    "df"
   ]
  },
  {
   "cell_type": "code",
   "execution_count": 4,
   "id": "bd6deacc",
   "metadata": {},
   "outputs": [
    {
     "data": {
      "text/plain": [
       "-1"
      ]
     },
     "execution_count": 4,
     "metadata": {},
     "output_type": "execute_result"
    }
   ],
   "source": [
    "from sqlalchemy import create_engine\n",
    "\n",
    "# Connection details\n",
    "server = 'JASNACZERN'        \n",
    "database = 'ferrero'\n",
    "username = 'sa'\n",
    "password = '1234'\n",
    "driver = 'ODBC Driver 17 for SQL Server'  \n",
    "\n",
    "# SQLAlchemy connection string\n",
    "conn_str = (\n",
    "    f\"mssql+pyodbc://{username}:{password}@{server}/{database}\"\n",
    "    f\"?driver={driver.replace(' ', '+')}\"\n",
    ")\n",
    "\n",
    "# Create SQLAlchemy engine\n",
    "engine = create_engine(conn_str)\n",
    "\n",
    "# Write the DataFrame to SQL Server (replace table_name with your desired name)\n",
    "df.to_sql('Zlecenia', con=engine, if_exists='append', index=False)"
   ]
  }
 ],
 "metadata": {
  "kernelspec": {
   "display_name": "base",
   "language": "python",
   "name": "python3"
  },
  "language_info": {
   "codemirror_mode": {
    "name": "ipython",
    "version": 3
   },
   "file_extension": ".py",
   "mimetype": "text/x-python",
   "name": "python",
   "nbconvert_exporter": "python",
   "pygments_lexer": "ipython3",
   "version": "3.11.5"
  }
 },
 "nbformat": 4,
 "nbformat_minor": 5
}
