{
 "cells": [
  {
   "cell_type": "code",
   "execution_count": 18,
   "id": "ed492d46",
   "metadata": {},
   "outputs": [],
   "source": [
    "import pandas as pd\n",
    "from sqlalchemy import create_engine"
   ]
  },
  {
   "cell_type": "code",
   "execution_count": 19,
   "id": "2b694b99",
   "metadata": {},
   "outputs": [
    {
     "name": "stdout",
     "output_type": "stream",
     "text": [
      "Data inserted into BilansProdukcji table.\n"
     ]
    },
    {
     "data": {
      "text/plain": [
       "Index(['Od', 'Do', 'Linia', 'Rodzina', 'QLTOTAkt', 'QLTOTPln',\n",
       "       'ProcentDvtProduk', 'ZmianaCzysty', 'ZmianaPrg', 'QZmAkt', 'QZmDocel',\n",
       "       'QZmStd', 'QCPKAkt', 'QCPKDocel', 'OpeLNShAkt', 'OpeLNShDocel',\n",
       "       'OpeELShAkt', 'OpeELShDocel', 'GQLAkt', 'GQLDocel', 'ProcentSCEff',\n",
       "       'ProcentSCStd', 'ProcentSREff', 'ProcentSRStd', 'ProcentSFSPEff',\n",
       "       'ProcentSFSPStd', 'GodzPracAkt', 'GodzPracDocel', 'ProcentELINIAEff',\n",
       "       'ProcentELINIAObb', 'ProcentEPracEff', 'ProcentEPracObb',\n",
       "       'ProcentZyskuEff', 'ProcentZyskuObb'],\n",
       "      dtype='object')"
      ]
     },
     "execution_count": 19,
     "metadata": {},
     "output_type": "execute_result"
    }
   ],
   "source": [
    "produkcja = pd.read_csv(\"export_produkcja.csv\", encoding=\"utf-8-sig\", sep=\";\")\n",
    "\n",
    "produkcja = produkcja.applymap(lambda x: str(x).replace(\",\", \".\") if isinstance(x, str) else x)\n",
    "\n",
    "produkcja[\"Od\"] = pd.to_datetime(produkcja[\"Od\"], dayfirst=True, errors=\"coerce\")\n",
    "produkcja[\"Do\"] = pd.to_datetime(produkcja[\"Do\"], dayfirst=True, errors=\"coerce\")\n",
    "\n",
    "float_cols = [col for col in produkcja.columns if col not in [\"Od\", \"Do\", \"Linia\", \"Rodzina\"]]\n",
    "produkcja[float_cols] = produkcja[float_cols].apply(pd.to_numeric, errors=\"coerce\")\n",
    "\n",
    "produkcja = produkcja[['Od', 'Do', 'Linia', 'Rodzina',\n",
    "       'QL (TOT) Akt', 'QL (TOT) Pln', '% Dvt Produk.', 'Zmiana Czysty',\n",
    "       'Zmiana Prg', 'Q/Zm. Akt', 'Q/Zm. Docel', 'Q/Zm. Standard', 'Q/CPK Akt',\n",
    "       'Q/CPK Docel', 'Ope/LN Sh. Akt', 'Ope/LN Sh. Docel', 'Ope/EL Sh. Akt',\n",
    "       'Ope/EL Sh. Docel', 'G/QL Akt', 'G/QL Docel', '% S.C. Eff',\n",
    "       '% S.C. Std.', '% SR Eff', '% SR Std.', '% SF/SP Eff', '% SF/SP Std.',\n",
    "       'Godz. Prac. Akt', 'Godz./Prac. Docel', '% Eff LINIA Eff',\n",
    "       '% Eff LINIA Obb', '% Eff Prac. Eff', '% Eff Prac. Obb', '% Zysku Eff',\n",
    "       '% Zysku Obb']]\n",
    "\n",
    "produkcja.columns = [  \n",
    "    \"Od\", \"Do\", \"Linia\", \"Rodzina\", \"QLTOTAkt\", \"QLTOTPln\", \"ProcentDvtProduk\",\n",
    "    \"ZmianaCzysty\", \"ZmianaPrg\", \"QZmAkt\", \"QZmDocel\", \"QZmStd\",\n",
    "    \"QCPKAkt\", \"QCPKDocel\", \"OpeLNShAkt\", \"OpeLNShDocel\",\n",
    "    \"OpeELShAkt\", \"OpeELShDocel\", \"GQLAkt\", \"GQLDocel\",\n",
    "    \"ProcentSCEff\", \"ProcentSCStd\", \"ProcentSREff\", \"ProcentSRStd\",\n",
    "    \"ProcentSFSPEff\", \"ProcentSFSPStd\", \"GodzPracAkt\", \"GodzPracDocel\",\n",
    "    \"ProcentELINIAEff\", \"ProcentELINIAObb\", \"ProcentEPracEff\", \"ProcentEPracObb\",\n",
    "    \"ProcentZyskuEff\", \"ProcentZyskuObb\"\n",
    "]\n",
    "\n",
    "produkcja.drop_duplicates(subset=[\"Od\", \"Linia\", \"Rodzina\"], inplace=True)\n",
    "\n",
    "server = 'JASNACZERN'        \n",
    "database = 'ferrero'\n",
    "username = 'sa'\n",
    "password = '1234'\n",
    "driver = 'ODBC Driver 17 for SQL Server'\n",
    "\n",
    "conn_str = (\n",
    "    f\"mssql+pyodbc://{username}:{password}@{server}/{database}\"\n",
    "    f\"?driver={driver.replace(' ', '+')}\"\n",
    ")\n",
    "engine = create_engine(conn_str)\n",
    "\n",
    "try:\n",
    "    produkcja.to_sql(\"BilansProdukcji\", con=engine, if_exists=\"append\", index=False)\n",
    "    print(\"Data inserted into BilansProdukcji table.\")\n",
    "except Exception as e:\n",
    "    print(\"Insert failed:\", e)\n",
    "\n",
    "produkcja.columns"
   ]
  }
 ],
 "metadata": {
  "kernelspec": {
   "display_name": "base",
   "language": "python",
   "name": "python3"
  },
  "language_info": {
   "codemirror_mode": {
    "name": "ipython",
    "version": 3
   },
   "file_extension": ".py",
   "mimetype": "text/x-python",
   "name": "python",
   "nbconvert_exporter": "python",
   "pygments_lexer": "ipython3",
   "version": "3.11.5"
  }
 },
 "nbformat": 4,
 "nbformat_minor": 5
}
